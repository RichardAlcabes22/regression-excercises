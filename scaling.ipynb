{
 "cells": [
  {
   "cell_type": "code",
   "execution_count": 1,
   "id": "d539c9f4",
   "metadata": {},
   "outputs": [],
   "source": [
    "###\n",
    "# inside acquire.py script:\n",
    "from env import uname, pwd, host\n",
    "import env\n",
    "import pandas as pd\n",
    "import os\n",
    "import matplotlib.pyplot as plt\n",
    "import seaborn as sns\n",
    "import wrangle\n",
    "from sklearn.model_selection import train_test_split\n",
    "from scipy import stats\n",
    "import sklearn.preprocessing"
   ]
  },
  {
   "cell_type": "code",
   "execution_count": 2,
   "id": "cfc45791",
   "metadata": {},
   "outputs": [
    {
     "data": {
      "text/html": [
       "<div>\n",
       "<style scoped>\n",
       "    .dataframe tbody tr th:only-of-type {\n",
       "        vertical-align: middle;\n",
       "    }\n",
       "\n",
       "    .dataframe tbody tr th {\n",
       "        vertical-align: top;\n",
       "    }\n",
       "\n",
       "    .dataframe thead th {\n",
       "        text-align: right;\n",
       "    }\n",
       "</style>\n",
       "<table border=\"1\" class=\"dataframe\">\n",
       "  <thead>\n",
       "    <tr style=\"text-align: right;\">\n",
       "      <th></th>\n",
       "      <th>beds</th>\n",
       "      <th>baths</th>\n",
       "      <th>sqft</th>\n",
       "      <th>taxable_value</th>\n",
       "      <th>built</th>\n",
       "      <th>tax</th>\n",
       "      <th>fips</th>\n",
       "    </tr>\n",
       "  </thead>\n",
       "  <tbody>\n",
       "    <tr>\n",
       "      <th>1941838</th>\n",
       "      <td>4</td>\n",
       "      <td>3</td>\n",
       "      <td>2015</td>\n",
       "      <td>209197</td>\n",
       "      <td>1941</td>\n",
       "      <td>2337</td>\n",
       "      <td>6037</td>\n",
       "    </tr>\n",
       "    <tr>\n",
       "      <th>1421974</th>\n",
       "      <td>4</td>\n",
       "      <td>2</td>\n",
       "      <td>1303</td>\n",
       "      <td>285279</td>\n",
       "      <td>1960</td>\n",
       "      <td>3029</td>\n",
       "      <td>6111</td>\n",
       "    </tr>\n",
       "    <tr>\n",
       "      <th>1346162</th>\n",
       "      <td>3</td>\n",
       "      <td>2</td>\n",
       "      <td>2128</td>\n",
       "      <td>374480</td>\n",
       "      <td>1950</td>\n",
       "      <td>4668</td>\n",
       "      <td>6111</td>\n",
       "    </tr>\n",
       "    <tr>\n",
       "      <th>1492536</th>\n",
       "      <td>2</td>\n",
       "      <td>2</td>\n",
       "      <td>1626</td>\n",
       "      <td>243656</td>\n",
       "      <td>1951</td>\n",
       "      <td>3211</td>\n",
       "      <td>6037</td>\n",
       "    </tr>\n",
       "    <tr>\n",
       "      <th>349555</th>\n",
       "      <td>3</td>\n",
       "      <td>2</td>\n",
       "      <td>1406</td>\n",
       "      <td>313183</td>\n",
       "      <td>1950</td>\n",
       "      <td>3879</td>\n",
       "      <td>6037</td>\n",
       "    </tr>\n",
       "    <tr>\n",
       "      <th>...</th>\n",
       "      <td>...</td>\n",
       "      <td>...</td>\n",
       "      <td>...</td>\n",
       "      <td>...</td>\n",
       "      <td>...</td>\n",
       "      <td>...</td>\n",
       "      <td>...</td>\n",
       "    </tr>\n",
       "    <tr>\n",
       "      <th>389482</th>\n",
       "      <td>2</td>\n",
       "      <td>1</td>\n",
       "      <td>742</td>\n",
       "      <td>329955</td>\n",
       "      <td>1928</td>\n",
       "      <td>4062</td>\n",
       "      <td>6037</td>\n",
       "    </tr>\n",
       "    <tr>\n",
       "      <th>677893</th>\n",
       "      <td>3</td>\n",
       "      <td>2</td>\n",
       "      <td>1155</td>\n",
       "      <td>438972</td>\n",
       "      <td>1958</td>\n",
       "      <td>5365</td>\n",
       "      <td>6037</td>\n",
       "    </tr>\n",
       "    <tr>\n",
       "      <th>1121893</th>\n",
       "      <td>3</td>\n",
       "      <td>1</td>\n",
       "      <td>1056</td>\n",
       "      <td>128151</td>\n",
       "      <td>1974</td>\n",
       "      <td>2119</td>\n",
       "      <td>6037</td>\n",
       "    </tr>\n",
       "    <tr>\n",
       "      <th>172656</th>\n",
       "      <td>5</td>\n",
       "      <td>3</td>\n",
       "      <td>2061</td>\n",
       "      <td>442589</td>\n",
       "      <td>1958</td>\n",
       "      <td>5092</td>\n",
       "      <td>6111</td>\n",
       "    </tr>\n",
       "    <tr>\n",
       "      <th>2079094</th>\n",
       "      <td>4</td>\n",
       "      <td>2</td>\n",
       "      <td>1929</td>\n",
       "      <td>105155</td>\n",
       "      <td>1966</td>\n",
       "      <td>1386</td>\n",
       "      <td>6037</td>\n",
       "    </tr>\n",
       "  </tbody>\n",
       "</table>\n",
       "<p>1198531 rows × 7 columns</p>\n",
       "</div>"
      ],
      "text/plain": [
       "         beds  baths  sqft  taxable_value  built   tax  fips\n",
       "1941838     4      3  2015         209197   1941  2337  6037\n",
       "1421974     4      2  1303         285279   1960  3029  6111\n",
       "1346162     3      2  2128         374480   1950  4668  6111\n",
       "1492536     2      2  1626         243656   1951  3211  6037\n",
       "349555      3      2  1406         313183   1950  3879  6037\n",
       "...       ...    ...   ...            ...    ...   ...   ...\n",
       "389482      2      1   742         329955   1928  4062  6037\n",
       "677893      3      2  1155         438972   1958  5365  6037\n",
       "1121893     3      1  1056         128151   1974  2119  6037\n",
       "172656      5      3  2061         442589   1958  5092  6111\n",
       "2079094     4      2  1929         105155   1966  1386  6037\n",
       "\n",
       "[1198531 rows x 7 columns]"
      ]
     },
     "execution_count": 2,
     "metadata": {},
     "output_type": "execute_result"
    }
   ],
   "source": [
    "train,validate,test = wrangle.wrangle_zillow()\n",
    "train"
   ]
  },
  {
   "cell_type": "code",
   "execution_count": null,
   "id": "01ede627",
   "metadata": {},
   "outputs": [],
   "source": [
    "train.shape,validate.shape,test.shape"
   ]
  },
  {
   "cell_type": "markdown",
   "id": "dc40b1b3",
   "metadata": {},
   "source": [
    "## Now we scale continuous data...sqft and tax...taxable_value is the target...no scaling\n",
    "\n"
   ]
  },
  {
   "cell_type": "code",
   "execution_count": null,
   "id": "e2787396",
   "metadata": {},
   "outputs": [],
   "source": [
    "train.sqft.describe()"
   ]
  },
  {
   "cell_type": "code",
   "execution_count": null,
   "id": "e817063c",
   "metadata": {},
   "outputs": [],
   "source": [
    "train.tax.describe()"
   ]
  },
  {
   "cell_type": "code",
   "execution_count": 3,
   "id": "64fb6332",
   "metadata": {},
   "outputs": [
    {
     "data": {
      "text/plain": [
       "count    1.197565e+06\n",
       "mean     1.854300e+03\n",
       "std      9.105491e+02\n",
       "min      1.000000e+00\n",
       "25%      1.258000e+03\n",
       "50%      1.623000e+03\n",
       "75%      2.206000e+03\n",
       "max      9.999000e+03\n",
       "Name: sqft, dtype: float64"
      ]
     },
     "execution_count": 3,
     "metadata": {},
     "output_type": "execute_result"
    }
   ],
   "source": [
    "train = train[train.sqft < 10000]\n",
    "train.sqft.describe()"
   ]
  },
  {
   "cell_type": "code",
   "execution_count": 4,
   "id": "5372defa",
   "metadata": {},
   "outputs": [
    {
     "data": {
      "text/plain": [
       "count    1.168049e+06\n",
       "mean     4.804570e+03\n",
       "std      3.379141e+03\n",
       "min      1.300000e+01\n",
       "25%      2.497000e+03\n",
       "50%      4.020000e+03\n",
       "75%      6.159000e+03\n",
       "max      1.999900e+04\n",
       "Name: tax, dtype: float64"
      ]
     },
     "execution_count": 4,
     "metadata": {},
     "output_type": "execute_result"
    }
   ],
   "source": [
    "train = train[train.tax < 20000]\n",
    "train.tax.describe()"
   ]
  },
  {
   "cell_type": "code",
   "execution_count": null,
   "id": "e1b4d24f",
   "metadata": {
    "scrolled": true
   },
   "outputs": [],
   "source": [
    "plt.figure(figsize=(7,3))\n",
    "plt.hist(train.sqft,bins=25,ec='black')\n",
    "plt.title('SQFT')\n",
    "plt.show()"
   ]
  },
  {
   "cell_type": "code",
   "execution_count": null,
   "id": "4dc56701",
   "metadata": {},
   "outputs": [],
   "source": [
    "plt.figure(figsize=(7,3))\n",
    "plt.hist(train.tax,bins=25,ec='black',color='firebrick',alpha=0.7)\n",
    "plt.title('ASSESSED_TAX')\n",
    "plt.show()"
   ]
  },
  {
   "cell_type": "markdown",
   "id": "f7a514f3",
   "metadata": {},
   "source": [
    "## Look at the histograms with the various scalers applied"
   ]
  },
  {
   "cell_type": "code",
   "execution_count": null,
   "id": "63933bc8",
   "metadata": {},
   "outputs": [],
   "source": [
    "# SCALE sqft with min-max\n",
    "scaler = sklearn.preprocessing.MinMaxScaler()\n",
    "scaler.fit(train[['sqft']])\n",
    "\n",
    "train_sqft_scaled = scaler.transform(train[['sqft']])\n",
    "validate_sqft_scaled = scaler.transform(validate[['sqft']])\n",
    "test_sqft_scaled = scaler.transform(test[['sqft']])\n",
    "\n",
    "# View sqft Scaled with min-max\n",
    "plt.figure(figsize=(7,3))\n",
    "plt.hist(train_sqft_scaled,bins=25,ec='black')\n",
    "plt.show()"
   ]
  },
  {
   "cell_type": "code",
   "execution_count": null,
   "id": "18163519",
   "metadata": {
    "scrolled": true
   },
   "outputs": [],
   "source": [
    "# SCALE tax with min-max\n",
    "scaler = sklearn.preprocessing.MinMaxScaler()\n",
    "scaler.fit(train[['tax']])\n",
    "\n",
    "train_sqft_scaled = scaler.transform(train[['tax']])\n",
    "validate_sqft_scaled = scaler.transform(validate[['tax']])\n",
    "test_sqft_scaled = scaler.transform(test[['tax']])\n",
    "\n",
    "# View tax Scaled with min-max\n",
    "plt.figure(figsize=(7,3))\n",
    "plt.hist(train_sqft_scaled,bins=25,ec='black',color='firebrick',alpha=0.7)\n",
    "plt.show()"
   ]
  },
  {
   "cell_type": "code",
   "execution_count": null,
   "id": "0b624abc",
   "metadata": {
    "scrolled": false
   },
   "outputs": [],
   "source": [
    "# SCALE sqft with STANDARD SCALer\n",
    "scaler = sklearn.preprocessing.StandardScaler()\n",
    "scaler.fit(train[['sqft']])\n",
    "\n",
    "train_sqft_scaled = scaler.transform(train[['sqft']])\n",
    "validate_sqft_scaled = scaler.transform(validate[['sqft']])\n",
    "test_sqft_scaled = scaler.transform(test[['sqft']])\n",
    "\n",
    "# View sqft Scaled with min-max\n",
    "plt.figure(figsize=(7,3))\n",
    "plt.hist(train_sqft_scaled,bins=25,ec='black')\n",
    "plt.show()"
   ]
  },
  {
   "cell_type": "code",
   "execution_count": null,
   "id": "b0ccfe54",
   "metadata": {
    "scrolled": true
   },
   "outputs": [],
   "source": [
    "# SCALE tax with STANDARD\n",
    "scaler = sklearn.preprocessing.StandardScaler()\n",
    "scaler.fit(train[['tax']])\n",
    "\n",
    "train_sqft_scaled = scaler.transform(train[['tax']])\n",
    "validate_sqft_scaled = scaler.transform(validate[['tax']])\n",
    "test_sqft_scaled = scaler.transform(test[['tax']])\n",
    "\n",
    "# View tax Scaled with min-max\n",
    "plt.figure(figsize=(7,3))\n",
    "plt.hist(train_sqft_scaled,bins=25,ec='black',color='firebrick',alpha=0.7)\n",
    "plt.show()"
   ]
  },
  {
   "cell_type": "code",
   "execution_count": null,
   "id": "6d43b87b",
   "metadata": {
    "scrolled": true
   },
   "outputs": [],
   "source": [
    "# SCALE sqft with ROBUST SCALer\n",
    "scaler = sklearn.preprocessing.RobustScaler()\n",
    "scaler.fit(train[['sqft']])\n",
    "\n",
    "train_sqft_scaled = scaler.transform(train[['sqft']])\n",
    "validate_sqft_scaled = scaler.transform(validate[['sqft']])\n",
    "test_sqft_scaled = scaler.transform(test[['sqft']])\n",
    "\n",
    "# View sqft Scaled with min-max\n",
    "plt.figure(figsize=(7,3))\n",
    "plt.hist(train_sqft_scaled,bins=25,ec='black')\n",
    "plt.show()"
   ]
  },
  {
   "cell_type": "code",
   "execution_count": null,
   "id": "4e00f22a",
   "metadata": {
    "scrolled": true
   },
   "outputs": [],
   "source": [
    "# SCALE tax with ROBUST\n",
    "scaler = sklearn.preprocessing.RobustScaler()\n",
    "scaler.fit(train[['tax']])\n",
    "\n",
    "train_sqft_scaled = scaler.transform(train[['tax']])\n",
    "validate_sqft_scaled = scaler.transform(validate[['tax']])\n",
    "test_sqft_scaled = scaler.transform(test[['tax']])\n",
    "\n",
    "# View tax Scaled with min-max\n",
    "plt.figure(figsize=(7,3))\n",
    "plt.hist(train_sqft_scaled,bins=25,ec='black',color='firebrick',alpha=0.7)\n",
    "plt.show()"
   ]
  },
  {
   "cell_type": "markdown",
   "id": "0080f3bd",
   "metadata": {},
   "source": [
    "## 2 Inverse transform"
   ]
  },
  {
   "cell_type": "code",
   "execution_count": null,
   "id": "90297ad7",
   "metadata": {},
   "outputs": [],
   "source": [
    "# INVERSE tax with .inverse_transform\n",
    "transformed_tax = scaler.fit(train[['tax']]).inverse_transform(train[['tax']])\n",
    "\n",
    "# View tax Scaled with min-max\n",
    "plt.figure(figsize=(7,3))\n",
    "plt.hist(transformed_tax,bins=25,ec='black',color='firebrick',alpha=0.7)\n",
    "plt.show()"
   ]
  },
  {
   "cell_type": "markdown",
   "id": "d66811bc",
   "metadata": {},
   "source": [
    "## QuantileTransformer"
   ]
  },
  {
   "cell_type": "code",
   "execution_count": null,
   "id": "e5f2260e",
   "metadata": {
    "scrolled": true
   },
   "outputs": [],
   "source": [
    "# SCALE sqft with QUANTILE TRANSFORMER with 'normal' DIST\n",
    "scaler = sklearn.preprocessing.QuantileTransformer(output_distribution='normal')\n",
    "scaler.fit(train[['sqft']])\n",
    "\n",
    "train_sqft_scaled = scaler.transform(train[['sqft']])\n",
    "validate_sqft_scaled = scaler.transform(validate[['sqft']])\n",
    "test_sqft_scaled = scaler.transform(test[['sqft']])\n",
    "\n",
    "# View sqft Scaled with min-max\n",
    "plt.figure(figsize=(7,3))\n",
    "plt.hist(train_sqft_scaled,bins=25,ec='black')\n",
    "plt.show()"
   ]
  },
  {
   "cell_type": "code",
   "execution_count": null,
   "id": "9d531f5e",
   "metadata": {
    "scrolled": true
   },
   "outputs": [],
   "source": [
    "# SCALE sqft with QUANTILE TRANSFORMER with 'uniform' DIST the default\n",
    "scaler = sklearn.preprocessing.QuantileTransformer()\n",
    "scaler.fit(train[['sqft']])\n",
    "\n",
    "train_sqft_scaled = scaler.transform(train[['sqft']])\n",
    "validate_sqft_scaled = scaler.transform(validate[['sqft']])\n",
    "test_sqft_scaled = scaler.transform(test[['sqft']])\n",
    "\n",
    "# View sqft Scaled with min-max\n",
    "plt.figure(figsize=(7,3))\n",
    "plt.hist(train_sqft_scaled,bins=25,ec='black')\n",
    "plt.show()"
   ]
  },
  {
   "cell_type": "code",
   "execution_count": null,
   "id": "7d55570c",
   "metadata": {},
   "outputs": [],
   "source": []
  },
  {
   "cell_type": "code",
   "execution_count": null,
   "id": "34ca4aeb",
   "metadata": {},
   "outputs": [],
   "source": []
  },
  {
   "cell_type": "code",
   "execution_count": null,
   "id": "d09d8fba",
   "metadata": {},
   "outputs": [],
   "source": []
  },
  {
   "cell_type": "code",
   "execution_count": null,
   "id": "769a972a",
   "metadata": {},
   "outputs": [],
   "source": []
  },
  {
   "cell_type": "code",
   "execution_count": null,
   "id": "3eed7eac",
   "metadata": {},
   "outputs": [],
   "source": [
    "X_train = train.drop(columns=['beds','baths','taxable_value','built','fips'])\n",
    "y_train = train['taxable_value']\n",
    "y_train = pd.DataFrame(y_train)\n",
    "\n",
    "X_validate = validate.drop(columns=['beds','baths','taxable_value','built','fips'])\n",
    "y_validate = validate['taxable_value']\n",
    "y_validate = pd.DataFrame(y_validate)\n",
    "\n",
    "X_test = test.drop(columns=['beds','baths','taxable_value','built','fips'])\n",
    "y_test = test['taxable_value']\n",
    "y_test = pd.DataFrame(y_test)"
   ]
  },
  {
   "cell_type": "code",
   "execution_count": null,
   "id": "d958acaf",
   "metadata": {
    "scrolled": true
   },
   "outputs": [],
   "source": [
    "# SCALE ALL X_train continuous COLS with QUANTILE TRANSFORMER with 'normal' DIST\n",
    "scaler = sklearn.preprocessing.QuantileTransformer(output_distribution='normal')\n",
    "scaler.fit(X_train)\n",
    "\n",
    "train_scaled = scaler.transform(X_train)\n",
    "validate_scaled = scaler.transform(X_validate)\n",
    "test_scaled = scaler.transform(X_test)\n",
    "\n",
    "# View sqft Scaled with min-max\n",
    "plt.figure(figsize=(7,3))\n",
    "plt.hist(train_scaled,bins=25,ec='black')\n",
    "plt.show()"
   ]
  },
  {
   "cell_type": "markdown",
   "id": "f75954f3",
   "metadata": {},
   "source": [
    "## Chosen scaler is QuantileTransformer with 'normal' setting...copy the following function into prepare.py"
   ]
  },
  {
   "cell_type": "code",
   "execution_count": null,
   "id": "fe31a240",
   "metadata": {
    "scrolled": true
   },
   "outputs": [],
   "source": [
    "# SCALE  continuous X_col with QUANTILE TRANSFORMER with 'normal' DIST\n",
    "\n",
    "def scale_zillow_col(train,validate,test):\n",
    "    '''\n",
    "    \n",
    "    accepts three dfs (train,val,test) and constructs X and y_train, _val, _test.  Then applies a \n",
    "    QuantileTransformer with 'normal' output to the specified column(s).\n",
    "    Outputs normal, standard arrays based upon the scaled values of each col.\n",
    "    \n",
    "    '''\n",
    "    X_train = train.drop(columns=['beds','baths','taxable_value','built','fips'])\n",
    "    y_train = train['taxable_value']\n",
    "    y_train = pd.DataFrame(y_train)\n",
    "\n",
    "    X_validate = validate.drop(columns=['beds','baths','taxable_value','built','fips'])\n",
    "    y_validate = validate['taxable_value']\n",
    "    y_validate = pd.DataFrame(y_validate)\n",
    "\n",
    "    X_test = test.drop(columns=['beds','baths','taxable_value','built','fips'])\n",
    "    y_test = test['taxable_value']\n",
    "    y_test = pd.DataFrame(y_test)\n",
    "    \n",
    "    scaler = sklearn.preprocessing.QuantileTransformer(output_distribution='normal')\n",
    "    scaler.fit(X_train)\n",
    "\n",
    "    train_col_scaled = scaler.transform(X_train)\n",
    "    validate_col_scaled = scaler.transform(X_validate)\n",
    "    test_col_scaled = scaler.transform(X_test)\n",
    "\n",
    "    return train_col_scaled,validate_col_scaled,test_col_scaled"
   ]
  },
  {
   "cell_type": "code",
   "execution_count": null,
   "id": "61578f97",
   "metadata": {},
   "outputs": [],
   "source": [
    "X_train_scaled,X_validate_scaled,X_test_scaled = scale_zillow_col(train,validate,test)"
   ]
  },
  {
   "cell_type": "code",
   "execution_count": 6,
   "id": "eccf7d96",
   "metadata": {},
   "outputs": [
    {
     "data": {
      "image/png": "[encoded data removed]",
      "text/plain": [
       "<Figure size 700x300 with 1 Axes>"
      ]
     },
     "metadata": {},
     "output_type": "display_data"
    }
   ],
   "source": [
    "# View sqft Scaled with min-max\n",
    "plt.figure(figsize=(7,3))\n",
    "plt.hist(X_train_scaled,bins=25,ec='black')\n",
    "plt.show()"
   ]
  },
  {
   "cell_type": "code",
   "execution_count": 5,
   "id": "6c217ba8",
   "metadata": {
    "scrolled": true
   },
   "outputs": [],
   "source": [
    "X_train_scaled,X_validate_scaled,X_test_scaled = wrangle.scale_zillow_col(train,validate,test)"
   ]
  },
  {
   "cell_type": "code",
   "execution_count": null,
   "id": "b6654938",
   "metadata": {},
   "outputs": [],
   "source": []
  }
 ],
 "metadata": {
  "kernelspec": {
   "display_name": "Python 3 (ipykernel)",
   "language": "python",
   "name": "python3"
  },
  "language_info": {
   "codemirror_mode": {
    "name": "ipython",
    "version": 3
   },
   "file_extension": ".py",
   "mimetype": "text/x-python",
   "name": "python",
   "nbconvert_exporter": "python",
   "pygments_lexer": "ipython3",
   "version": "3.9.13"
  }
 },
 "nbformat": 4,
 "nbformat_minor": 5
}
