{
 "cells": [
  {
   "cell_type": "code",
   "execution_count": 1,
   "id": "a465bcf5",
   "metadata": {},
   "outputs": [],
   "source": [
    "import pandas as pd\n",
    "import numpy as np\n",
    "import wrangle_model\n",
    "import wrangle\n",
    "import matplotlib.pyplot as plt\n",
    "from pydataset import data\n",
    "\n",
    "from sklearn.preprocessing import MinMaxScaler\n",
    "from sklearn.model_selection import train_test_split\n",
    "# modeling methods\n",
    "from sklearn.metrics import mean_squared_error\n",
    "from sklearn.linear_model import LinearRegression, LassoLars, TweedieRegressor\n",
    "from sklearn.preprocessing import PolynomialFeatures\n",
    "from sklearn.metrics import explained_variance_score"
   ]
  },
  {
   "cell_type": "code",
   "execution_count": 5,
   "id": "2c92d889",
   "metadata": {},
   "outputs": [],
   "source": [
    "df = pd.read_csv('tips.csv')\n",
    "# total bill / party size\n",
    "df['price_per_person'] = df.total_bill / df['size']\n",
    "# split that data!\n",
    "train_val, test = train_test_split(df,\n",
    "                                   train_size=0.8,\n",
    "                                   random_state=1349)\n",
    "train, validate = train_test_split(train_val,\n",
    "                                   train_size=0.7,\n",
    "                                   random_state=1349)\n",
    "X_train, y_train = train.drop(columns='tip'), train[['tip']]\n",
    "X_validate,y_validate = validate.drop(columns=['tip']),validate[['tip']]\n",
    "X_test,y_test = test.drop(columns=['tip']), test[['tip']]\n",
    "\n",
    "# initialize two empty lists\n",
    "num_cols, cat_cols = [], []\n",
    "# for every i in X_train's columns:\n",
    "for i in X_train.columns:\n",
    "    # If that thing (inside that series) is a number\n",
    "    if np.issubdtype(X_train[i], np.number):\n",
    "        #and if it has over 5 elements\n",
    "        if X_train[i].value_counts().shape[0] > 5:\n",
    "            #then we'll put that column name in an appropriate list\n",
    "            num_cols.append(i)\n",
    "        else:\n",
    "            cat_cols.append(i)\n",
    "    else:\n",
    "        #otherwise its probably an object\n",
    "        cat_cols.append(i)\n",
    "X_train[[f'{i}_scaled' for i in num_cols]] = MinMaxScaler(\n",
    ").fit_transform(X_train[num_cols])\n",
    "X_train = pd.concat([X_train,pd.get_dummies(X_train[cat_cols], drop_first=True)],\n",
    "                    axis=1)\n",
    "\n",
    "# initialize two empty lists\n",
    "num_cols, cat_cols = [], []\n",
    "# for every i in X_train's columns:\n",
    "for i in X_validate.columns:\n",
    "    # If that thing (inside that series) is a number\n",
    "    if np.issubdtype(X_validate[i], np.number):\n",
    "        #and if it has over 5 elements\n",
    "        if X_validate[i].value_counts().shape[0] > 5:\n",
    "            #then we'll put that column name in an appropriate list\n",
    "            num_cols.append(i)\n",
    "        else:\n",
    "            cat_cols.append(i)\n",
    "    else:\n",
    "        #otherwise its probably an object\n",
    "        cat_cols.append(i)\n",
    "X_validate[[f'{i}_scaled' for i in num_cols]] = MinMaxScaler(\n",
    ").fit_transform(X_validate[num_cols])\n",
    "X_validate = pd.concat([X_validate,pd.get_dummies(X_validate[cat_cols], drop_first=True)],\n",
    "                    axis=1)\n",
    "\n",
    "# initialize two empty lists\n",
    "num_cols, cat_cols = [], []\n",
    "# for every i in X_train's columns:\n",
    "for i in X_test.columns:\n",
    "    # If that thing (inside that series) is a number\n",
    "    if np.issubdtype(X_test[i], np.number):\n",
    "        #and if it has over 5 elements\n",
    "        if X_test[i].value_counts().shape[0] > 5:\n",
    "            #then we'll put that column name in an appropriate list\n",
    "            num_cols.append(i)\n",
    "        else:\n",
    "            cat_cols.append(i)\n",
    "    else:\n",
    "        #otherwise its probably an object\n",
    "        cat_cols.append(i)\n",
    "X_test[[f'{i}_scaled' for i in num_cols]] = MinMaxScaler(\n",
    ").fit_transform(X_test[num_cols])\n",
    "X_test = pd.concat([X_test,pd.get_dummies(X_test[cat_cols], drop_first=True)],\n",
    "                    axis=1)\n",
    "\n",
    "modeling_feats = ['total_bill_scaled',\n",
    " 'price_per_person_scaled',\n",
    " 'sex_Male',\n",
    " 'smoker_Yes',\n",
    " 'day_Sat',\n",
    " 'day_Sun',\n",
    " 'day_Thur',\n",
    " 'time_Lunch']\n"
   ]
  },
  {
   "cell_type": "code",
   "execution_count": 7,
   "id": "3053be57",
   "metadata": {},
   "outputs": [],
   "source": [
    "X_train = X_train[modeling_feats]\n",
    "X_validate = X_validate[modeling_feats]\n",
    "X_test = X_test[modeling_feats]"
   ]
  },
  {
   "cell_type": "code",
   "execution_count": 17,
   "id": "ac6ebb60",
   "metadata": {},
   "outputs": [
    {
     "data": {
      "text/plain": [
       "((136, 8), (59, 8), (49, 8))"
      ]
     },
     "execution_count": 17,
     "metadata": {},
     "output_type": "execute_result"
    }
   ],
   "source": [
    "X_train.shape, X_validate.shape, X_test.shape"
   ]
  },
  {
   "cell_type": "code",
   "execution_count": 8,
   "id": "df1bc19c",
   "metadata": {},
   "outputs": [
    {
     "data": {
      "text/html": [
       "<div>\n",
       "<style scoped>\n",
       "    .dataframe tbody tr th:only-of-type {\n",
       "        vertical-align: middle;\n",
       "    }\n",
       "\n",
       "    .dataframe tbody tr th {\n",
       "        vertical-align: top;\n",
       "    }\n",
       "\n",
       "    .dataframe thead th {\n",
       "        text-align: right;\n",
       "    }\n",
       "</style>\n",
       "<table border=\"1\" class=\"dataframe\">\n",
       "  <thead>\n",
       "    <tr style=\"text-align: right;\">\n",
       "      <th></th>\n",
       "      <th>total_bill_scaled</th>\n",
       "      <th>price_per_person_scaled</th>\n",
       "      <th>sex_Male</th>\n",
       "      <th>smoker_Yes</th>\n",
       "      <th>day_Sat</th>\n",
       "      <th>day_Sun</th>\n",
       "      <th>day_Thur</th>\n",
       "      <th>time_Lunch</th>\n",
       "    </tr>\n",
       "  </thead>\n",
       "  <tbody>\n",
       "    <tr>\n",
       "      <th>51</th>\n",
       "      <td>0.100755</td>\n",
       "      <td>0.130460</td>\n",
       "      <td>0</td>\n",
       "      <td>0</td>\n",
       "      <td>0</td>\n",
       "      <td>1</td>\n",
       "      <td>0</td>\n",
       "      <td>0</td>\n",
       "    </tr>\n",
       "    <tr>\n",
       "      <th>46</th>\n",
       "      <td>0.365735</td>\n",
       "      <td>0.473563</td>\n",
       "      <td>1</td>\n",
       "      <td>0</td>\n",
       "      <td>0</td>\n",
       "      <td>1</td>\n",
       "      <td>0</td>\n",
       "      <td>0</td>\n",
       "    </tr>\n",
       "    <tr>\n",
       "      <th>107</th>\n",
       "      <td>0.431869</td>\n",
       "      <td>0.559195</td>\n",
       "      <td>1</td>\n",
       "      <td>1</td>\n",
       "      <td>1</td>\n",
       "      <td>0</td>\n",
       "      <td>0</td>\n",
       "      <td>0</td>\n",
       "    </tr>\n",
       "    <tr>\n",
       "      <th>86</th>\n",
       "      <td>0.161562</td>\n",
       "      <td>0.209195</td>\n",
       "      <td>1</td>\n",
       "      <td>0</td>\n",
       "      <td>0</td>\n",
       "      <td>0</td>\n",
       "      <td>1</td>\n",
       "      <td>1</td>\n",
       "    </tr>\n",
       "    <tr>\n",
       "      <th>58</th>\n",
       "      <td>0.121838</td>\n",
       "      <td>0.157759</td>\n",
       "      <td>1</td>\n",
       "      <td>1</td>\n",
       "      <td>1</td>\n",
       "      <td>0</td>\n",
       "      <td>0</td>\n",
       "      <td>0</td>\n",
       "    </tr>\n",
       "  </tbody>\n",
       "</table>\n",
       "</div>"
      ],
      "text/plain": [
       "     total_bill_scaled  price_per_person_scaled  sex_Male  smoker_Yes  \\\n",
       "51            0.100755                 0.130460         0           0   \n",
       "46            0.365735                 0.473563         1           0   \n",
       "107           0.431869                 0.559195         1           1   \n",
       "86            0.161562                 0.209195         1           0   \n",
       "58            0.121838                 0.157759         1           1   \n",
       "\n",
       "     day_Sat  day_Sun  day_Thur  time_Lunch  \n",
       "51         0        1         0           0  \n",
       "46         0        1         0           0  \n",
       "107        1        0         0           0  \n",
       "86         0        0         1           1  \n",
       "58         1        0         0           0  "
      ]
     },
     "execution_count": 8,
     "metadata": {},
     "output_type": "execute_result"
    }
   ],
   "source": [
    "X_train.head()"
   ]
  },
  {
   "cell_type": "code",
   "execution_count": 9,
   "id": "c8b2f57d",
   "metadata": {},
   "outputs": [
    {
     "data": {
      "text/html": [
       "<div>\n",
       "<style scoped>\n",
       "    .dataframe tbody tr th:only-of-type {\n",
       "        vertical-align: middle;\n",
       "    }\n",
       "\n",
       "    .dataframe tbody tr th {\n",
       "        vertical-align: top;\n",
       "    }\n",
       "\n",
       "    .dataframe thead th {\n",
       "        text-align: right;\n",
       "    }\n",
       "</style>\n",
       "<table border=\"1\" class=\"dataframe\">\n",
       "  <thead>\n",
       "    <tr style=\"text-align: right;\">\n",
       "      <th></th>\n",
       "      <th>total_bill_scaled</th>\n",
       "      <th>price_per_person_scaled</th>\n",
       "      <th>sex_Male</th>\n",
       "      <th>smoker_Yes</th>\n",
       "      <th>day_Sat</th>\n",
       "      <th>day_Sun</th>\n",
       "      <th>day_Thur</th>\n",
       "      <th>time_Lunch</th>\n",
       "    </tr>\n",
       "  </thead>\n",
       "  <tbody>\n",
       "    <tr>\n",
       "      <th>64</th>\n",
       "      <td>0.320813</td>\n",
       "      <td>0.196092</td>\n",
       "      <td>1</td>\n",
       "      <td>0</td>\n",
       "      <td>1</td>\n",
       "      <td>0</td>\n",
       "      <td>0</td>\n",
       "      <td>0</td>\n",
       "    </tr>\n",
       "    <tr>\n",
       "      <th>203</th>\n",
       "      <td>0.294521</td>\n",
       "      <td>0.360126</td>\n",
       "      <td>0</td>\n",
       "      <td>1</td>\n",
       "      <td>0</td>\n",
       "      <td>0</td>\n",
       "      <td>1</td>\n",
       "      <td>1</td>\n",
       "    </tr>\n",
       "    <tr>\n",
       "      <th>23</th>\n",
       "      <td>0.803137</td>\n",
       "      <td>0.476307</td>\n",
       "      <td>1</td>\n",
       "      <td>0</td>\n",
       "      <td>1</td>\n",
       "      <td>0</td>\n",
       "      <td>0</td>\n",
       "      <td>0</td>\n",
       "    </tr>\n",
       "    <tr>\n",
       "      <th>78</th>\n",
       "      <td>0.435042</td>\n",
       "      <td>0.583363</td>\n",
       "      <td>1</td>\n",
       "      <td>0</td>\n",
       "      <td>0</td>\n",
       "      <td>0</td>\n",
       "      <td>1</td>\n",
       "      <td>1</td>\n",
       "    </tr>\n",
       "    <tr>\n",
       "      <th>216</th>\n",
       "      <td>0.554132</td>\n",
       "      <td>0.179712</td>\n",
       "      <td>1</td>\n",
       "      <td>1</td>\n",
       "      <td>1</td>\n",
       "      <td>0</td>\n",
       "      <td>0</td>\n",
       "      <td>0</td>\n",
       "    </tr>\n",
       "  </tbody>\n",
       "</table>\n",
       "</div>"
      ],
      "text/plain": [
       "     total_bill_scaled  price_per_person_scaled  sex_Male  smoker_Yes  \\\n",
       "64            0.320813                 0.196092         1           0   \n",
       "203           0.294521                 0.360126         0           1   \n",
       "23            0.803137                 0.476307         1           0   \n",
       "78            0.435042                 0.583363         1           0   \n",
       "216           0.554132                 0.179712         1           1   \n",
       "\n",
       "     day_Sat  day_Sun  day_Thur  time_Lunch  \n",
       "64         1        0         0           0  \n",
       "203        0        0         1           1  \n",
       "23         1        0         0           0  \n",
       "78         0        0         1           1  \n",
       "216        1        0         0           0  "
      ]
     },
     "execution_count": 9,
     "metadata": {},
     "output_type": "execute_result"
    }
   ],
   "source": [
    "X_validate.head()"
   ]
  },
  {
   "cell_type": "code",
   "execution_count": 12,
   "id": "1b85dd3e",
   "metadata": {},
   "outputs": [
    {
     "data": {
      "text/html": [
       "<div>\n",
       "<style scoped>\n",
       "    .dataframe tbody tr th:only-of-type {\n",
       "        vertical-align: middle;\n",
       "    }\n",
       "\n",
       "    .dataframe tbody tr th {\n",
       "        vertical-align: top;\n",
       "    }\n",
       "\n",
       "    .dataframe thead th {\n",
       "        text-align: right;\n",
       "    }\n",
       "</style>\n",
       "<table border=\"1\" class=\"dataframe\">\n",
       "  <thead>\n",
       "    <tr style=\"text-align: right;\">\n",
       "      <th></th>\n",
       "      <th>tip</th>\n",
       "    </tr>\n",
       "  </thead>\n",
       "  <tbody>\n",
       "    <tr>\n",
       "      <th>64</th>\n",
       "      <td>2.64</td>\n",
       "    </tr>\n",
       "    <tr>\n",
       "      <th>203</th>\n",
       "      <td>2.50</td>\n",
       "    </tr>\n",
       "    <tr>\n",
       "      <th>23</th>\n",
       "      <td>7.58</td>\n",
       "    </tr>\n",
       "    <tr>\n",
       "      <th>78</th>\n",
       "      <td>3.00</td>\n",
       "    </tr>\n",
       "    <tr>\n",
       "      <th>216</th>\n",
       "      <td>3.00</td>\n",
       "    </tr>\n",
       "  </tbody>\n",
       "</table>\n",
       "</div>"
      ],
      "text/plain": [
       "      tip\n",
       "64   2.64\n",
       "203  2.50\n",
       "23   7.58\n",
       "78   3.00\n",
       "216  3.00"
      ]
     },
     "execution_count": 12,
     "metadata": {},
     "output_type": "execute_result"
    }
   ],
   "source": [
    "y_validate.head()"
   ]
  },
  {
   "cell_type": "markdown",
   "id": "acaa342e",
   "metadata": {},
   "source": [
    "### we do this now lets look at distribution of target"
   ]
  },
  {
   "cell_type": "code",
   "execution_count": 18,
   "id": "a72eb944",
   "metadata": {},
   "outputs": [
    {
     "data": {
      "image/png": "[encoded data removed]",
      "text/plain": [
       "<Figure size 640x480 with 1 Axes>"
      ]
     },
     "metadata": {},
     "output_type": "display_data"
    }
   ],
   "source": [
    "plt.hist(y_train)\n",
    "plt.title('Dist of Target(Tip)')\n",
    "plt.xlabel(\"Tip\")\n",
    "plt.ylabel(\"Count\")\n",
    "\n",
    "plt.show()"
   ]
  },
  {
   "cell_type": "code",
   "execution_count": 19,
   "id": "5c170ea0",
   "metadata": {},
   "outputs": [],
   "source": [
    "# convert y_targets into dataframe so that we can append additional columns to it\n",
    "y_train = pd.DataFrame(y_train)\n",
    "y_validate = pd.DataFrame(y_validate)"
   ]
  },
  {
   "cell_type": "code",
   "execution_count": 20,
   "id": "77ea603f",
   "metadata": {},
   "outputs": [],
   "source": [
    "# 1. Predict TIP_pred_mean\n",
    "tip_pred_mean = y_train.tip.mean()\n",
    "y_train['tip_pred_mean'] = tip_pred_mean\n",
    "y_validate['tip_pred_mean'] = tip_pred_mean"
   ]
  },
  {
   "cell_type": "code",
   "execution_count": 21,
   "id": "517849e6",
   "metadata": {},
   "outputs": [
    {
     "data": {
      "text/html": [
       "<div>\n",
       "<style scoped>\n",
       "    .dataframe tbody tr th:only-of-type {\n",
       "        vertical-align: middle;\n",
       "    }\n",
       "\n",
       "    .dataframe tbody tr th {\n",
       "        vertical-align: top;\n",
       "    }\n",
       "\n",
       "    .dataframe thead th {\n",
       "        text-align: right;\n",
       "    }\n",
       "</style>\n",
       "<table border=\"1\" class=\"dataframe\">\n",
       "  <thead>\n",
       "    <tr style=\"text-align: right;\">\n",
       "      <th></th>\n",
       "      <th>tip</th>\n",
       "      <th>tip_pred_mean</th>\n",
       "    </tr>\n",
       "  </thead>\n",
       "  <tbody>\n",
       "    <tr>\n",
       "      <th>51</th>\n",
       "      <td>2.60</td>\n",
       "      <td>2.993088</td>\n",
       "    </tr>\n",
       "    <tr>\n",
       "      <th>46</th>\n",
       "      <td>5.00</td>\n",
       "      <td>2.993088</td>\n",
       "    </tr>\n",
       "    <tr>\n",
       "      <th>107</th>\n",
       "      <td>4.29</td>\n",
       "      <td>2.993088</td>\n",
       "    </tr>\n",
       "    <tr>\n",
       "      <th>86</th>\n",
       "      <td>2.00</td>\n",
       "      <td>2.993088</td>\n",
       "    </tr>\n",
       "    <tr>\n",
       "      <th>58</th>\n",
       "      <td>1.76</td>\n",
       "      <td>2.993088</td>\n",
       "    </tr>\n",
       "  </tbody>\n",
       "</table>\n",
       "</div>"
      ],
      "text/plain": [
       "      tip  tip_pred_mean\n",
       "51   2.60       2.993088\n",
       "46   5.00       2.993088\n",
       "107  4.29       2.993088\n",
       "86   2.00       2.993088\n",
       "58   1.76       2.993088"
      ]
     },
     "execution_count": 21,
     "metadata": {},
     "output_type": "execute_result"
    }
   ],
   "source": [
    "y_train.head()"
   ]
  },
  {
   "cell_type": "code",
   "execution_count": 22,
   "id": "4c2223da",
   "metadata": {},
   "outputs": [],
   "source": [
    "# 2. compute tip_pred_median\n",
    "tip_pred_median = y_train.tip.median()\n",
    "y_train['tip_pred_median'] = tip_pred_median\n",
    "y_validate['tip_pred_median'] = tip_pred_median"
   ]
  },
  {
   "cell_type": "code",
   "execution_count": 23,
   "id": "534f61dd",
   "metadata": {},
   "outputs": [
    {
     "data": {
      "text/html": [
       "<div>\n",
       "<style scoped>\n",
       "    .dataframe tbody tr th:only-of-type {\n",
       "        vertical-align: middle;\n",
       "    }\n",
       "\n",
       "    .dataframe tbody tr th {\n",
       "        vertical-align: top;\n",
       "    }\n",
       "\n",
       "    .dataframe thead th {\n",
       "        text-align: right;\n",
       "    }\n",
       "</style>\n",
       "<table border=\"1\" class=\"dataframe\">\n",
       "  <thead>\n",
       "    <tr style=\"text-align: right;\">\n",
       "      <th></th>\n",
       "      <th>tip</th>\n",
       "      <th>tip_pred_mean</th>\n",
       "      <th>tip_pred_median</th>\n",
       "    </tr>\n",
       "  </thead>\n",
       "  <tbody>\n",
       "    <tr>\n",
       "      <th>51</th>\n",
       "      <td>2.60</td>\n",
       "      <td>2.993088</td>\n",
       "      <td>3.0</td>\n",
       "    </tr>\n",
       "    <tr>\n",
       "      <th>46</th>\n",
       "      <td>5.00</td>\n",
       "      <td>2.993088</td>\n",
       "      <td>3.0</td>\n",
       "    </tr>\n",
       "    <tr>\n",
       "      <th>107</th>\n",
       "      <td>4.29</td>\n",
       "      <td>2.993088</td>\n",
       "      <td>3.0</td>\n",
       "    </tr>\n",
       "    <tr>\n",
       "      <th>86</th>\n",
       "      <td>2.00</td>\n",
       "      <td>2.993088</td>\n",
       "      <td>3.0</td>\n",
       "    </tr>\n",
       "    <tr>\n",
       "      <th>58</th>\n",
       "      <td>1.76</td>\n",
       "      <td>2.993088</td>\n",
       "      <td>3.0</td>\n",
       "    </tr>\n",
       "  </tbody>\n",
       "</table>\n",
       "</div>"
      ],
      "text/plain": [
       "      tip  tip_pred_mean  tip_pred_median\n",
       "51   2.60       2.993088              3.0\n",
       "46   5.00       2.993088              3.0\n",
       "107  4.29       2.993088              3.0\n",
       "86   2.00       2.993088              3.0\n",
       "58   1.76       2.993088              3.0"
      ]
     },
     "execution_count": 23,
     "metadata": {},
     "output_type": "execute_result"
    }
   ],
   "source": [
    "y_train.head()"
   ]
  },
  {
   "cell_type": "code",
   "execution_count": 24,
   "id": "2a4c1751",
   "metadata": {},
   "outputs": [
    {
     "name": "stdout",
     "output_type": "stream",
     "text": [
      "RMSE using Mean\n",
      "Train/In-Sample: 1.34 \n",
      "Validate/Out-of-Sample: 1.58\n",
      "RMSE using Median\n",
      "Train/In-Sample: 1.34 \n",
      "Validate/Out-of-Sample: 1.57\n"
     ]
    }
   ],
   "source": [
    "# COMPARE mu and median\n",
    "rmse_train_mu = mean_squared_error(y_train.tip,\n",
    "                                y_train.tip_pred_mean) ** .5\n",
    "\n",
    "rmse_validate_mu = mean_squared_error(y_validate.tip, y_validate.tip_pred_mean) ** (0.5)\n",
    "\n",
    "rmse_train_med = mean_squared_error(y_train.tip, y_train.tip_pred_median) ** .5\n",
    "rmse_validate_med = mean_squared_error(y_validate.tip, y_validate.tip_pred_median) ** (0.5)\n",
    "\n",
    "print(f\"\"\"RMSE using Mean\n",
    "Train/In-Sample: {round(rmse_train_mu, 2)} \n",
    "Validate/Out-of-Sample: {round(rmse_validate_mu, 2)}\"\"\")\n",
    "\n",
    "print(f\"\"\"RMSE using Median\n",
    "Train/In-Sample: {round(rmse_train_med, 2)} \n",
    "Validate/Out-of-Sample: {round(rmse_validate_med, 2)}\"\"\")\n",
    "\n",
    "# We actually want to use the MEDIAN 1.57 vs 1.58"
   ]
  },
  {
   "cell_type": "code",
   "execution_count": 25,
   "id": "6a945653",
   "metadata": {},
   "outputs": [],
   "source": [
    "# build a quick df to compare results...will append to this df as needed\n",
    "metric_df = pd.DataFrame(data=[\n",
    "    {'model': 'median_baseline',\n",
    "     'RMSE_train': rmse_train_med,\n",
    "     'RMSE_validate': rmse_validate_med,\n",
    "     'R2_validate': explained_variance_score(y_validate.tip,\n",
    "                                             y_validate.tip_pred_median)\n",
    "    }\n",
    "]\n",
    ")"
   ]
  },
  {
   "cell_type": "code",
   "execution_count": 26,
   "id": "1dc1e50f",
   "metadata": {},
   "outputs": [
    {
     "data": {
      "text/html": [
       "<div>\n",
       "<style scoped>\n",
       "    .dataframe tbody tr th:only-of-type {\n",
       "        vertical-align: middle;\n",
       "    }\n",
       "\n",
       "    .dataframe tbody tr th {\n",
       "        vertical-align: top;\n",
       "    }\n",
       "\n",
       "    .dataframe thead th {\n",
       "        text-align: right;\n",
       "    }\n",
       "</style>\n",
       "<table border=\"1\" class=\"dataframe\">\n",
       "  <thead>\n",
       "    <tr style=\"text-align: right;\">\n",
       "      <th></th>\n",
       "      <th>model</th>\n",
       "      <th>RMSE_train</th>\n",
       "      <th>RMSE_validate</th>\n",
       "      <th>R2_validate</th>\n",
       "    </tr>\n",
       "  </thead>\n",
       "  <tbody>\n",
       "    <tr>\n",
       "      <th>0</th>\n",
       "      <td>median_baseline</td>\n",
       "      <td>1.341078</td>\n",
       "      <td>1.57429</td>\n",
       "      <td>2.220446e-16</td>\n",
       "    </tr>\n",
       "  </tbody>\n",
       "</table>\n",
       "</div>"
      ],
      "text/plain": [
       "             model  RMSE_train  RMSE_validate   R2_validate\n",
       "0  median_baseline    1.341078        1.57429  2.220446e-16"
      ]
     },
     "execution_count": 26,
     "metadata": {},
     "output_type": "execute_result"
    }
   ],
   "source": [
    "metric_df"
   ]
  },
  {
   "cell_type": "markdown",
   "id": "9a474f34",
   "metadata": {},
   "source": [
    "### Lets see OLS model"
   ]
  },
  {
   "cell_type": "code",
   "execution_count": 27,
   "id": "0e575899",
   "metadata": {},
   "outputs": [
    {
     "name": "stdout",
     "output_type": "stream",
     "text": [
      "RMSE for OLS using LinearRegression\n",
      "Training/In-Sample:  1.003695289248333 \n",
      "Validation/Out-of-Sample: 0.9338654516592251\n"
     ]
    }
   ],
   "source": [
    "# MAKE THE THING: create the model object\n",
    "lm = LinearRegression()\n",
    "\n",
    "#1. FIT THE THING: fit the model to training data\n",
    "OLSmodel = lm.fit(X_train, y_train.tip)\n",
    "\n",
    "#2. USE THE THING: make a prediction\n",
    "y_train['tip_pred_lm'] = lm.predict(X_train)\n",
    "\n",
    "#3. Evaluate: RMSE\n",
    "rmse_train = mean_squared_error(y_train.tip, y_train.tip_pred_lm)**(1/2)\n",
    "\n",
    "# 4. REPEAT STEPS 2-3 for validate\n",
    "\n",
    "# predict validate\n",
    "y_validate['tip_pred_lm'] = lm.predict(X_validate)\n",
    "\n",
    "\n",
    "# evaluate: RMSE\n",
    "rmse_validate = mean_squared_error(y_validate.tip, y_validate.tip_pred_lm)**(1/2)\n",
    "\n",
    "\n",
    "print(f\"\"\"RMSE for OLS using LinearRegression\n",
    "Training/In-Sample:  {rmse_train} \n",
    "Validation/Out-of-Sample: {rmse_validate}\"\"\")"
   ]
  },
  {
   "cell_type": "code",
   "execution_count": 29,
   "id": "108e5dec",
   "metadata": {},
   "outputs": [
    {
     "data": {
      "text/html": [
       "<div>\n",
       "<style scoped>\n",
       "    .dataframe tbody tr th:only-of-type {\n",
       "        vertical-align: middle;\n",
       "    }\n",
       "\n",
       "    .dataframe tbody tr th {\n",
       "        vertical-align: top;\n",
       "    }\n",
       "\n",
       "    .dataframe thead th {\n",
       "        text-align: right;\n",
       "    }\n",
       "</style>\n",
       "<table border=\"1\" class=\"dataframe\">\n",
       "  <thead>\n",
       "    <tr style=\"text-align: right;\">\n",
       "      <th></th>\n",
       "      <th>tip</th>\n",
       "      <th>tip_pred_mean</th>\n",
       "      <th>tip_pred_median</th>\n",
       "      <th>tip_pred_lm</th>\n",
       "    </tr>\n",
       "  </thead>\n",
       "  <tbody>\n",
       "    <tr>\n",
       "      <th>51</th>\n",
       "      <td>2.60</td>\n",
       "      <td>2.993088</td>\n",
       "      <td>3.0</td>\n",
       "      <td>2.226460</td>\n",
       "    </tr>\n",
       "    <tr>\n",
       "      <th>46</th>\n",
       "      <td>5.00</td>\n",
       "      <td>2.993088</td>\n",
       "      <td>3.0</td>\n",
       "      <td>3.287963</td>\n",
       "    </tr>\n",
       "    <tr>\n",
       "      <th>107</th>\n",
       "      <td>4.29</td>\n",
       "      <td>2.993088</td>\n",
       "      <td>3.0</td>\n",
       "      <td>3.394910</td>\n",
       "    </tr>\n",
       "    <tr>\n",
       "      <th>86</th>\n",
       "      <td>2.00</td>\n",
       "      <td>2.993088</td>\n",
       "      <td>3.0</td>\n",
       "      <td>2.301912</td>\n",
       "    </tr>\n",
       "    <tr>\n",
       "      <th>58</th>\n",
       "      <td>1.76</td>\n",
       "      <td>2.993088</td>\n",
       "      <td>3.0</td>\n",
       "      <td>2.219685</td>\n",
       "    </tr>\n",
       "  </tbody>\n",
       "</table>\n",
       "</div>"
      ],
      "text/plain": [
       "      tip  tip_pred_mean  tip_pred_median  tip_pred_lm\n",
       "51   2.60       2.993088              3.0     2.226460\n",
       "46   5.00       2.993088              3.0     3.287963\n",
       "107  4.29       2.993088              3.0     3.394910\n",
       "86   2.00       2.993088              3.0     2.301912\n",
       "58   1.76       2.993088              3.0     2.219685"
      ]
     },
     "execution_count": 29,
     "metadata": {},
     "output_type": "execute_result"
    }
   ],
   "source": [
    "y_train.head()"
   ]
  },
  {
   "cell_type": "code",
   "execution_count": 30,
   "id": "8d926b4a",
   "metadata": {},
   "outputs": [
    {
     "name": "stderr",
     "output_type": "stream",
     "text": [
      "/var/folders/ty/2pnn6wsj06n_glzjgbmxzlkw0000gn/T/ipykernel_2314/3260298468.py:3: FutureWarning: The frame.append method is deprecated and will be removed from pandas in a future version. Use pandas.concat instead.\n",
      "  metric_df = metric_df.append(\n"
     ]
    }
   ],
   "source": [
    "#Append this to the metric_df\n",
    "\n",
    "metric_df = metric_df.append(\n",
    "    {'model': 'OLS Regressor',\n",
    "     'RMSE_train': rmse_train,\n",
    "     'RMSE_validate': rmse_validate,\n",
    "     'R2_validate': explained_variance_score(y_validate.tip,\n",
    "                                             y_validate.tip_pred_lm)\n",
    "    }, ignore_index=True)"
   ]
  },
  {
   "cell_type": "code",
   "execution_count": 31,
   "id": "5a0fd291",
   "metadata": {},
   "outputs": [
    {
     "data": {
      "text/html": [
       "<div>\n",
       "<style scoped>\n",
       "    .dataframe tbody tr th:only-of-type {\n",
       "        vertical-align: middle;\n",
       "    }\n",
       "\n",
       "    .dataframe tbody tr th {\n",
       "        vertical-align: top;\n",
       "    }\n",
       "\n",
       "    .dataframe thead th {\n",
       "        text-align: right;\n",
       "    }\n",
       "</style>\n",
       "<table border=\"1\" class=\"dataframe\">\n",
       "  <thead>\n",
       "    <tr style=\"text-align: right;\">\n",
       "      <th></th>\n",
       "      <th>model</th>\n",
       "      <th>RMSE_train</th>\n",
       "      <th>RMSE_validate</th>\n",
       "      <th>R2_validate</th>\n",
       "    </tr>\n",
       "  </thead>\n",
       "  <tbody>\n",
       "    <tr>\n",
       "      <th>0</th>\n",
       "      <td>median_baseline</td>\n",
       "      <td>1.341078</td>\n",
       "      <td>1.574290</td>\n",
       "      <td>2.220446e-16</td>\n",
       "    </tr>\n",
       "    <tr>\n",
       "      <th>1</th>\n",
       "      <td>OLS Regressor</td>\n",
       "      <td>1.003695</td>\n",
       "      <td>0.933865</td>\n",
       "      <td>6.583177e-01</td>\n",
       "    </tr>\n",
       "  </tbody>\n",
       "</table>\n",
       "</div>"
      ],
      "text/plain": [
       "             model  RMSE_train  RMSE_validate   R2_validate\n",
       "0  median_baseline    1.341078       1.574290  2.220446e-16\n",
       "1    OLS Regressor    1.003695       0.933865  6.583177e-01"
      ]
     },
     "execution_count": 31,
     "metadata": {},
     "output_type": "execute_result"
    }
   ],
   "source": [
    "metric_df"
   ]
  },
  {
   "cell_type": "code",
   "execution_count": 35,
   "id": "eb33a444",
   "metadata": {},
   "outputs": [],
   "source": [
    "#take a look under the hood \n",
    "coef_df = pd.DataFrame({'cols':X_train.columns,\n",
    "              'OLScoef':OLSmodel.coef_})"
   ]
  },
  {
   "cell_type": "code",
   "execution_count": 36,
   "id": "26ab0150",
   "metadata": {},
   "outputs": [
    {
     "data": {
      "text/html": [
       "<div>\n",
       "<style scoped>\n",
       "    .dataframe tbody tr th:only-of-type {\n",
       "        vertical-align: middle;\n",
       "    }\n",
       "\n",
       "    .dataframe tbody tr th {\n",
       "        vertical-align: top;\n",
       "    }\n",
       "\n",
       "    .dataframe thead th {\n",
       "        text-align: right;\n",
       "    }\n",
       "</style>\n",
       "<table border=\"1\" class=\"dataframe\">\n",
       "  <thead>\n",
       "    <tr style=\"text-align: right;\">\n",
       "      <th></th>\n",
       "      <th>cols</th>\n",
       "      <th>OLScoef</th>\n",
       "    </tr>\n",
       "  </thead>\n",
       "  <tbody>\n",
       "    <tr>\n",
       "      <th>0</th>\n",
       "      <td>total_bill_scaled</td>\n",
       "      <td>4.728668</td>\n",
       "    </tr>\n",
       "    <tr>\n",
       "      <th>1</th>\n",
       "      <td>price_per_person_scaled</td>\n",
       "      <td>-0.724420</td>\n",
       "    </tr>\n",
       "    <tr>\n",
       "      <th>2</th>\n",
       "      <td>sex_Male</td>\n",
       "      <td>0.057052</td>\n",
       "    </tr>\n",
       "    <tr>\n",
       "      <th>3</th>\n",
       "      <td>smoker_Yes</td>\n",
       "      <td>0.156901</td>\n",
       "    </tr>\n",
       "    <tr>\n",
       "      <th>4</th>\n",
       "      <td>day_Sat</td>\n",
       "      <td>0.024976</td>\n",
       "    </tr>\n",
       "    <tr>\n",
       "      <th>5</th>\n",
       "      <td>day_Sun</td>\n",
       "      <td>0.325622</td>\n",
       "    </tr>\n",
       "    <tr>\n",
       "      <th>6</th>\n",
       "      <td>day_Thur</td>\n",
       "      <td>0.233719</td>\n",
       "    </tr>\n",
       "    <tr>\n",
       "      <th>7</th>\n",
       "      <td>time_Lunch</td>\n",
       "      <td>-0.120199</td>\n",
       "    </tr>\n",
       "  </tbody>\n",
       "</table>\n",
       "</div>"
      ],
      "text/plain": [
       "                      cols   OLScoef\n",
       "0        total_bill_scaled  4.728668\n",
       "1  price_per_person_scaled -0.724420\n",
       "2                 sex_Male  0.057052\n",
       "3               smoker_Yes  0.156901\n",
       "4                  day_Sat  0.024976\n",
       "5                  day_Sun  0.325622\n",
       "6                 day_Thur  0.233719\n",
       "7               time_Lunch -0.120199"
      ]
     },
     "execution_count": 36,
     "metadata": {},
     "output_type": "execute_result"
    }
   ],
   "source": [
    "coef_df"
   ]
  },
  {
   "cell_type": "markdown",
   "id": "43615a96",
   "metadata": {},
   "source": [
    "### Now L1"
   ]
  },
  {
   "cell_type": "code",
   "execution_count": 37,
   "id": "0da97796",
   "metadata": {},
   "outputs": [
    {
     "name": "stdout",
     "output_type": "stream",
     "text": [
      "RMSE for Lasso + Lars\n",
      "_____________________\n",
      "Training/In-Sample: 1.0208385071087447, \n",
      "Validation/Out-of-Sample:  0.9657101995482704\n",
      "Difference:  -0.055128307560474266\n"
     ]
    },
    {
     "name": "stderr",
     "output_type": "stream",
     "text": [
      "/opt/homebrew/anaconda3/lib/python3.9/site-packages/sklearn/linear_model/_base.py:133: FutureWarning: The default of 'normalize' will be set to False in version 1.2 and deprecated in version 1.4.\n",
      "If you wish to scale the data, use Pipeline with a StandardScaler in a preprocessing stage. To reproduce the previous behavior:\n",
      "\n",
      "from sklearn.pipeline import make_pipeline\n",
      "\n",
      "model = make_pipeline(StandardScaler(with_mean=False), LassoLars())\n",
      "\n",
      "If you wish to pass a sample_weight parameter, you need to pass it as a fit parameter to each step of the pipeline as follows:\n",
      "\n",
      "kwargs = {s[0] + '__sample_weight': sample_weight for s in model.steps}\n",
      "model.fit(X, y, **kwargs)\n",
      "\n",
      "Set parameter alpha to: original_alpha * np.sqrt(n_samples). \n",
      "  warnings.warn(\n"
     ]
    }
   ],
   "source": [
    "# MAKE THE THING: create the model object\n",
    "lars = LassoLars(alpha=0.01)\n",
    "\n",
    "#1. FIT THE THING: fit the model to training data\n",
    "# We must specify the column in y_train, since we have converted it to a dataframe from a series!\n",
    "lars.fit(X_train, y_train.tip)\n",
    "\n",
    "#2. USE THE THING: make a prediction\n",
    "y_train['tip_pred_lars'] = lars.predict(X_train)\n",
    "\n",
    "#3. Evaluate: RMSE\n",
    "rmse_train = mean_squared_error(y_train.tip, y_train.tip_pred_lars) ** (1/2)\n",
    "\n",
    "#4. REPEAT STEPS 2-3\n",
    "\n",
    "# predict validate\n",
    "y_validate['tip_pred_lars'] = lars.predict(X_validate)\n",
    "\n",
    "# evaluate: RMSE\n",
    "rmse_validate = mean_squared_error(y_validate.tip, y_validate.tip_pred_lars) ** (1/2)\n",
    "\n",
    "print(f\"\"\"RMSE for Lasso + Lars\n",
    "_____________________\n",
    "Training/In-Sample: {rmse_train}, \n",
    "Validation/Out-of-Sample:  {rmse_validate}\n",
    "Difference:  {rmse_validate - rmse_train}\"\"\")"
   ]
  },
  {
   "cell_type": "code",
   "execution_count": 38,
   "id": "ddaeedbc",
   "metadata": {},
   "outputs": [
    {
     "name": "stderr",
     "output_type": "stream",
     "text": [
      "/var/folders/ty/2pnn6wsj06n_glzjgbmxzlkw0000gn/T/ipykernel_2314/3165586441.py:3: FutureWarning: The frame.append method is deprecated and will be removed from pandas in a future version. Use pandas.concat instead.\n",
      "  metric_df = metric_df.append(\n"
     ]
    }
   ],
   "source": [
    "#Append this to the metric_df\n",
    "\n",
    "metric_df = metric_df.append(\n",
    "    {'model': 'LASSO_alpha01',\n",
    "     'RMSE_train': rmse_train,\n",
    "     'RMSE_validate': rmse_validate,\n",
    "     'R2_validate': explained_variance_score(y_validate.tip,\n",
    "                                             y_validate.tip_pred_lars)\n",
    "    }, ignore_index=True)"
   ]
  },
  {
   "cell_type": "code",
   "execution_count": 39,
   "id": "6b120b2a",
   "metadata": {
    "scrolled": true
   },
   "outputs": [
    {
     "data": {
      "text/html": [
       "<div>\n",
       "<style scoped>\n",
       "    .dataframe tbody tr th:only-of-type {\n",
       "        vertical-align: middle;\n",
       "    }\n",
       "\n",
       "    .dataframe tbody tr th {\n",
       "        vertical-align: top;\n",
       "    }\n",
       "\n",
       "    .dataframe thead th {\n",
       "        text-align: right;\n",
       "    }\n",
       "</style>\n",
       "<table border=\"1\" class=\"dataframe\">\n",
       "  <thead>\n",
       "    <tr style=\"text-align: right;\">\n",
       "      <th></th>\n",
       "      <th>model</th>\n",
       "      <th>RMSE_train</th>\n",
       "      <th>RMSE_validate</th>\n",
       "      <th>R2_validate</th>\n",
       "    </tr>\n",
       "  </thead>\n",
       "  <tbody>\n",
       "    <tr>\n",
       "      <th>0</th>\n",
       "      <td>median_baseline</td>\n",
       "      <td>1.341078</td>\n",
       "      <td>1.574290</td>\n",
       "      <td>2.220446e-16</td>\n",
       "    </tr>\n",
       "    <tr>\n",
       "      <th>1</th>\n",
       "      <td>OLS Regressor</td>\n",
       "      <td>1.003695</td>\n",
       "      <td>0.933865</td>\n",
       "      <td>6.583177e-01</td>\n",
       "    </tr>\n",
       "    <tr>\n",
       "      <th>2</th>\n",
       "      <td>LASSO_alpha01</td>\n",
       "      <td>1.020839</td>\n",
       "      <td>0.965710</td>\n",
       "      <td>6.583177e-01</td>\n",
       "    </tr>\n",
       "  </tbody>\n",
       "</table>\n",
       "</div>"
      ],
      "text/plain": [
       "             model  RMSE_train  RMSE_validate   R2_validate\n",
       "0  median_baseline    1.341078       1.574290  2.220446e-16\n",
       "1    OLS Regressor    1.003695       0.933865  6.583177e-01\n",
       "2    LASSO_alpha01    1.020839       0.965710  6.583177e-01"
      ]
     },
     "execution_count": 39,
     "metadata": {},
     "output_type": "execute_result"
    }
   ],
   "source": [
    "metric_df"
   ]
  },
  {
   "cell_type": "code",
   "execution_count": 40,
   "id": "6e96bb57",
   "metadata": {},
   "outputs": [
    {
     "data": {
      "text/plain": [
       "array([3.87163419, 0.        , 0.        , 0.        , 0.        ,\n",
       "       0.06128238, 0.        , 0.        ])"
      ]
     },
     "execution_count": 40,
     "metadata": {},
     "output_type": "execute_result"
    }
   ],
   "source": [
    "lars.coef_"
   ]
  },
  {
   "cell_type": "code",
   "execution_count": 41,
   "id": "91979391",
   "metadata": {},
   "outputs": [],
   "source": [
    "#take a look under the hood \n",
    "lars_df = pd.DataFrame({\n",
    "              'LARScoef':lars.coef_})"
   ]
  },
  {
   "cell_type": "code",
   "execution_count": 42,
   "id": "f1ba83d7",
   "metadata": {},
   "outputs": [],
   "source": [
    "coef_df = pd.concat([coef_df,lars_df],ignore_index=True,axis=1)"
   ]
  },
  {
   "cell_type": "code",
   "execution_count": 43,
   "id": "0aa3bcb5",
   "metadata": {},
   "outputs": [
    {
     "data": {
      "text/html": [
       "<div>\n",
       "<style scoped>\n",
       "    .dataframe tbody tr th:only-of-type {\n",
       "        vertical-align: middle;\n",
       "    }\n",
       "\n",
       "    .dataframe tbody tr th {\n",
       "        vertical-align: top;\n",
       "    }\n",
       "\n",
       "    .dataframe thead th {\n",
       "        text-align: right;\n",
       "    }\n",
       "</style>\n",
       "<table border=\"1\" class=\"dataframe\">\n",
       "  <thead>\n",
       "    <tr style=\"text-align: right;\">\n",
       "      <th></th>\n",
       "      <th>0</th>\n",
       "      <th>1</th>\n",
       "      <th>2</th>\n",
       "    </tr>\n",
       "  </thead>\n",
       "  <tbody>\n",
       "    <tr>\n",
       "      <th>0</th>\n",
       "      <td>total_bill_scaled</td>\n",
       "      <td>4.728668</td>\n",
       "      <td>3.871634</td>\n",
       "    </tr>\n",
       "    <tr>\n",
       "      <th>1</th>\n",
       "      <td>price_per_person_scaled</td>\n",
       "      <td>-0.724420</td>\n",
       "      <td>0.000000</td>\n",
       "    </tr>\n",
       "    <tr>\n",
       "      <th>2</th>\n",
       "      <td>sex_Male</td>\n",
       "      <td>0.057052</td>\n",
       "      <td>0.000000</td>\n",
       "    </tr>\n",
       "    <tr>\n",
       "      <th>3</th>\n",
       "      <td>smoker_Yes</td>\n",
       "      <td>0.156901</td>\n",
       "      <td>0.000000</td>\n",
       "    </tr>\n",
       "    <tr>\n",
       "      <th>4</th>\n",
       "      <td>day_Sat</td>\n",
       "      <td>0.024976</td>\n",
       "      <td>0.000000</td>\n",
       "    </tr>\n",
       "    <tr>\n",
       "      <th>5</th>\n",
       "      <td>day_Sun</td>\n",
       "      <td>0.325622</td>\n",
       "      <td>0.061282</td>\n",
       "    </tr>\n",
       "    <tr>\n",
       "      <th>6</th>\n",
       "      <td>day_Thur</td>\n",
       "      <td>0.233719</td>\n",
       "      <td>0.000000</td>\n",
       "    </tr>\n",
       "    <tr>\n",
       "      <th>7</th>\n",
       "      <td>time_Lunch</td>\n",
       "      <td>-0.120199</td>\n",
       "      <td>0.000000</td>\n",
       "    </tr>\n",
       "  </tbody>\n",
       "</table>\n",
       "</div>"
      ],
      "text/plain": [
       "                         0         1         2\n",
       "0        total_bill_scaled  4.728668  3.871634\n",
       "1  price_per_person_scaled -0.724420  0.000000\n",
       "2                 sex_Male  0.057052  0.000000\n",
       "3               smoker_Yes  0.156901  0.000000\n",
       "4                  day_Sat  0.024976  0.000000\n",
       "5                  day_Sun  0.325622  0.061282\n",
       "6                 day_Thur  0.233719  0.000000\n",
       "7               time_Lunch -0.120199  0.000000"
      ]
     },
     "execution_count": 43,
     "metadata": {},
     "output_type": "execute_result"
    }
   ],
   "source": [
    "coef_df"
   ]
  },
  {
   "cell_type": "markdown",
   "id": "70034ea7",
   "metadata": {},
   "source": [
    "## Now GLM"
   ]
  },
  {
   "cell_type": "code",
   "execution_count": 44,
   "id": "c3dd0b26",
   "metadata": {},
   "outputs": [
    {
     "name": "stdout",
     "output_type": "stream",
     "text": [
      "RMSE for GLM using Tweedie, power=1 & alpha=0\n",
      "_____________________\n",
      "Training/In-Sample: 1.034023158000185, \n",
      "Validation/Out-of-Sample:  0.910653979398716\n",
      "Difference:  -0.12336917860146912\n"
     ]
    }
   ],
   "source": [
    "# MAKE THE THING: create the model object\n",
    "glm = TweedieRegressor(power=1, alpha=0)\n",
    "\n",
    "#1. FIT THE THING: fit the model to training data\n",
    "# We must specify the column in y_train, since we have converted it to a dataframe from a series!\n",
    "glm.fit(X_train, y_train.tip)\n",
    "\n",
    "#2. USE THE THING: make a prediction\n",
    "y_train['tip_pred_glm'] = glm.predict(X_train)\n",
    "\n",
    "#3. Evaluate: RMSE\n",
    "rmse_train = mean_squared_error(y_train.tip, y_train.tip_pred_glm) ** (1/2)\n",
    "\n",
    "#4. REPEAT STEPS 2-3\n",
    "\n",
    "# predict validate\n",
    "y_validate['tip_pred_glm'] = glm.predict(X_validate)\n",
    "\n",
    "# evaluate: RMSE\n",
    "rmse_validate = mean_squared_error(y_validate.tip, y_validate.tip_pred_glm) ** (1/2)\\\n",
    "\n",
    "print(f\"\"\"RMSE for GLM using Tweedie, power=1 & alpha=0\n",
    "_____________________\n",
    "Training/In-Sample: {rmse_train}, \n",
    "Validation/Out-of-Sample:  {rmse_validate}\n",
    "Difference:  {rmse_validate - rmse_train}\"\"\")"
   ]
  },
  {
   "cell_type": "code",
   "execution_count": 45,
   "id": "af9aa940",
   "metadata": {},
   "outputs": [
    {
     "name": "stderr",
     "output_type": "stream",
     "text": [
      "/var/folders/ty/2pnn6wsj06n_glzjgbmxzlkw0000gn/T/ipykernel_2314/4050999740.py:3: FutureWarning: The frame.append method is deprecated and will be removed from pandas in a future version. Use pandas.concat instead.\n",
      "  metric_df = metric_df.append(\n"
     ]
    }
   ],
   "source": [
    "#Append this to the metric_df\n",
    "\n",
    "metric_df = metric_df.append(\n",
    "    {'model': 'GLM_power1',\n",
    "     'RMSE_train': rmse_train,\n",
    "     'RMSE_validate': rmse_validate,\n",
    "     'R2_validate': explained_variance_score(y_validate.tip,\n",
    "                                             y_validate.tip_pred_glm)\n",
    "    }, ignore_index=True)"
   ]
  },
  {
   "cell_type": "code",
   "execution_count": 46,
   "id": "4bbf7e9b",
   "metadata": {},
   "outputs": [
    {
     "data": {
      "text/html": [
       "<div>\n",
       "<style scoped>\n",
       "    .dataframe tbody tr th:only-of-type {\n",
       "        vertical-align: middle;\n",
       "    }\n",
       "\n",
       "    .dataframe tbody tr th {\n",
       "        vertical-align: top;\n",
       "    }\n",
       "\n",
       "    .dataframe thead th {\n",
       "        text-align: right;\n",
       "    }\n",
       "</style>\n",
       "<table border=\"1\" class=\"dataframe\">\n",
       "  <thead>\n",
       "    <tr style=\"text-align: right;\">\n",
       "      <th></th>\n",
       "      <th>model</th>\n",
       "      <th>RMSE_train</th>\n",
       "      <th>RMSE_validate</th>\n",
       "      <th>R2_validate</th>\n",
       "    </tr>\n",
       "  </thead>\n",
       "  <tbody>\n",
       "    <tr>\n",
       "      <th>0</th>\n",
       "      <td>median_baseline</td>\n",
       "      <td>1.341078</td>\n",
       "      <td>1.574290</td>\n",
       "      <td>2.220446e-16</td>\n",
       "    </tr>\n",
       "    <tr>\n",
       "      <th>1</th>\n",
       "      <td>OLS Regressor</td>\n",
       "      <td>1.003695</td>\n",
       "      <td>0.933865</td>\n",
       "      <td>6.583177e-01</td>\n",
       "    </tr>\n",
       "    <tr>\n",
       "      <th>2</th>\n",
       "      <td>LASSO_alpha01</td>\n",
       "      <td>1.020839</td>\n",
       "      <td>0.965710</td>\n",
       "      <td>6.583177e-01</td>\n",
       "    </tr>\n",
       "    <tr>\n",
       "      <th>3</th>\n",
       "      <td>GLM_power1</td>\n",
       "      <td>1.034023</td>\n",
       "      <td>0.910654</td>\n",
       "      <td>6.726286e-01</td>\n",
       "    </tr>\n",
       "  </tbody>\n",
       "</table>\n",
       "</div>"
      ],
      "text/plain": [
       "             model  RMSE_train  RMSE_validate   R2_validate\n",
       "0  median_baseline    1.341078       1.574290  2.220446e-16\n",
       "1    OLS Regressor    1.003695       0.933865  6.583177e-01\n",
       "2    LASSO_alpha01    1.020839       0.965710  6.583177e-01\n",
       "3       GLM_power1    1.034023       0.910654  6.726286e-01"
      ]
     },
     "execution_count": 46,
     "metadata": {},
     "output_type": "execute_result"
    }
   ],
   "source": [
    "metric_df"
   ]
  },
  {
   "cell_type": "code",
   "execution_count": 47,
   "id": "725e7f81",
   "metadata": {},
   "outputs": [],
   "source": [
    "#take a look under the hood \n",
    "glm_df = pd.DataFrame({\n",
    "              'GLMcoef':glm.coef_})"
   ]
  },
  {
   "cell_type": "code",
   "execution_count": 48,
   "id": "c3fb828e",
   "metadata": {},
   "outputs": [],
   "source": [
    "coef_df = pd.concat([coef_df,glm_df],ignore_index=True,axis=1)"
   ]
  },
  {
   "cell_type": "code",
   "execution_count": 52,
   "id": "b5c6fd57",
   "metadata": {},
   "outputs": [
    {
     "data": {
      "text/html": [
       "<div>\n",
       "<style scoped>\n",
       "    .dataframe tbody tr th:only-of-type {\n",
       "        vertical-align: middle;\n",
       "    }\n",
       "\n",
       "    .dataframe tbody tr th {\n",
       "        vertical-align: top;\n",
       "    }\n",
       "\n",
       "    .dataframe thead th {\n",
       "        text-align: right;\n",
       "    }\n",
       "</style>\n",
       "<table border=\"1\" class=\"dataframe\">\n",
       "  <thead>\n",
       "    <tr style=\"text-align: right;\">\n",
       "      <th></th>\n",
       "      <th>features</th>\n",
       "      <th>OLS</th>\n",
       "      <th>LARS</th>\n",
       "      <th>GLM</th>\n",
       "    </tr>\n",
       "  </thead>\n",
       "  <tbody>\n",
       "    <tr>\n",
       "      <th>0</th>\n",
       "      <td>total_bill_scaled</td>\n",
       "      <td>4.728668</td>\n",
       "      <td>3.871634</td>\n",
       "      <td>1.305864</td>\n",
       "    </tr>\n",
       "    <tr>\n",
       "      <th>1</th>\n",
       "      <td>price_per_person_scaled</td>\n",
       "      <td>-0.724420</td>\n",
       "      <td>0.000000</td>\n",
       "      <td>-0.152593</td>\n",
       "    </tr>\n",
       "    <tr>\n",
       "      <th>2</th>\n",
       "      <td>sex_Male</td>\n",
       "      <td>0.057052</td>\n",
       "      <td>0.000000</td>\n",
       "      <td>0.015806</td>\n",
       "    </tr>\n",
       "    <tr>\n",
       "      <th>3</th>\n",
       "      <td>smoker_Yes</td>\n",
       "      <td>0.156901</td>\n",
       "      <td>0.000000</td>\n",
       "      <td>0.043735</td>\n",
       "    </tr>\n",
       "    <tr>\n",
       "      <th>4</th>\n",
       "      <td>day_Sat</td>\n",
       "      <td>0.024976</td>\n",
       "      <td>0.000000</td>\n",
       "      <td>0.005477</td>\n",
       "    </tr>\n",
       "    <tr>\n",
       "      <th>5</th>\n",
       "      <td>day_Sun</td>\n",
       "      <td>0.325622</td>\n",
       "      <td>0.061282</td>\n",
       "      <td>0.106822</td>\n",
       "    </tr>\n",
       "    <tr>\n",
       "      <th>6</th>\n",
       "      <td>day_Thur</td>\n",
       "      <td>0.233719</td>\n",
       "      <td>0.000000</td>\n",
       "      <td>0.095761</td>\n",
       "    </tr>\n",
       "    <tr>\n",
       "      <th>7</th>\n",
       "      <td>time_Lunch</td>\n",
       "      <td>-0.120199</td>\n",
       "      <td>0.000000</td>\n",
       "      <td>-0.068971</td>\n",
       "    </tr>\n",
       "  </tbody>\n",
       "</table>\n",
       "</div>"
      ],
      "text/plain": [
       "                  features       OLS      LARS       GLM\n",
       "0        total_bill_scaled  4.728668  3.871634  1.305864\n",
       "1  price_per_person_scaled -0.724420  0.000000 -0.152593\n",
       "2                 sex_Male  0.057052  0.000000  0.015806\n",
       "3               smoker_Yes  0.156901  0.000000  0.043735\n",
       "4                  day_Sat  0.024976  0.000000  0.005477\n",
       "5                  day_Sun  0.325622  0.061282  0.106822\n",
       "6                 day_Thur  0.233719  0.000000  0.095761\n",
       "7               time_Lunch -0.120199  0.000000 -0.068971"
      ]
     },
     "execution_count": 52,
     "metadata": {},
     "output_type": "execute_result"
    }
   ],
   "source": [
    "coef_df.rename(columns={0:'features',1:'OLS',2:'LARS',3:'GLM'})"
   ]
  },
  {
   "cell_type": "code",
   "execution_count": null,
   "id": "e9d60415",
   "metadata": {},
   "outputs": [],
   "source": []
  },
  {
   "cell_type": "code",
   "execution_count": null,
   "id": "de818041",
   "metadata": {},
   "outputs": [],
   "source": []
  },
  {
   "cell_type": "code",
   "execution_count": null,
   "id": "e9c4c6cd",
   "metadata": {},
   "outputs": [],
   "source": []
  }
 ],
 "metadata": {
  "kernelspec": {
   "display_name": "Python 3 (ipykernel)",
   "language": "python",
   "name": "python3"
  },
  "language_info": {
   "codemirror_mode": {
    "name": "ipython",
    "version": 3
   },
   "file_extension": ".py",
   "mimetype": "text/x-python",
   "name": "python",
   "nbconvert_exporter": "python",
   "pygments_lexer": "ipython3",
   "version": "3.9.13"
  }
 },
 "nbformat": 4,
 "nbformat_minor": 5
}
