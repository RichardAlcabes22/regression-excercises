{
 "cells": [
  {
   "cell_type": "code",
   "execution_count": 1,
   "id": "5521419a",
   "metadata": {},
   "outputs": [],
   "source": [
    "###\n",
    "# inside acquire.py script:\n",
    "from env import uname, pwd, host\n",
    "import env\n",
    "import pandas as pd\n",
    "import os"
   ]
  },
  {
   "cell_type": "code",
   "execution_count": 2,
   "id": "46d7c8f9",
   "metadata": {},
   "outputs": [],
   "source": [
    "###\n",
    "######### USE THIS FOR THE zillow DATASET!!!!\n",
    "\n",
    "def get_df():\n",
    "    '''\n",
    "    This function reads the telco data from the Codeup db into a df.\n",
    "    '''\n",
    "    \n",
    "    filename = \"zillow.csv\"\n",
    "\n",
    "    if os.path.isfile(filename):\n",
    "        return pd.read_csv(filename,index_col=False)\n",
    "    else:\n",
    "        sql_query = \"\"\"\n",
    "                SELECT  bedroomcnt as beds,\n",
    "                    bathroomcnt as baths,\n",
    "                    calculatedfinishedsquarefeet as sqft,\n",
    "                    taxvaluedollarcnt as taxable_value,\n",
    "                    yearbuilt as built,\n",
    "                    taxamount as tax,\n",
    "                    fips,\n",
    "                    propertylandusetypeid\n",
    "                FROM properties_2017\n",
    "                WHERE propertylandusetypeid = 261\n",
    "                \"\"\"\n",
    "    \n",
    "        # Read in DataFrame from Codeup db.\n",
    "        df = pd.read_sql(sql_query, env.get_db_url('zillow'))\n",
    "        df.to_csv(filename,index=False)\n",
    "        return df\n",
    "\n",
    "\n",
    "#----------------------------------------------------"
   ]
  },
  {
   "cell_type": "code",
   "execution_count": null,
   "id": "4938b129",
   "metadata": {
    "scrolled": true
   },
   "outputs": [],
   "source": [
    "df = get_df()\n",
    "df.head()"
   ]
  },
  {
   "cell_type": "code",
   "execution_count": null,
   "id": "6ed622b8",
   "metadata": {},
   "outputs": [],
   "source": [
    "df.shape"
   ]
  },
  {
   "cell_type": "code",
   "execution_count": null,
   "id": "2da64f6d",
   "metadata": {},
   "outputs": [],
   "source": [
    "df.isnull().sum()"
   ]
  },
  {
   "cell_type": "code",
   "execution_count": null,
   "id": "68912d19",
   "metadata": {},
   "outputs": [],
   "source": [
    "df.isna().sum()"
   ]
  },
  {
   "cell_type": "code",
   "execution_count": null,
   "id": "ca5a61f4",
   "metadata": {},
   "outputs": [],
   "source": [
    "df.info()"
   ]
  },
  {
   "cell_type": "markdown",
   "id": "317cd78a",
   "metadata": {},
   "source": [
    "## First, we drop the property land use id...then we can drop rows with missingness...\n",
    "## and finally we can convert all floats to INT"
   ]
  },
  {
   "cell_type": "code",
   "execution_count": 3,
   "id": "91967cc2",
   "metadata": {},
   "outputs": [],
   "source": [
    "###\n",
    "def clean_zillow(df):\n",
    "    '''\n",
    "    clean_szillow will take in df and will remove propertyland..., rows with NULL values in any cell and will\n",
    "    cast floats into int.\n",
    "    \n",
    "    args: df\n",
    "    return: df (clean)\n",
    "    \n",
    "    '''\n",
    "    df = df.drop(columns='propertylandusetypeid')\n",
    "    df = df.dropna()\n",
    "    df = df.astype(int)\n",
    "    return df"
   ]
  },
  {
   "cell_type": "code",
   "execution_count": null,
   "id": "03f838f6",
   "metadata": {},
   "outputs": [],
   "source": [
    "df = clean_zillow(df)"
   ]
  },
  {
   "cell_type": "code",
   "execution_count": null,
   "id": "b7f7ddaf",
   "metadata": {},
   "outputs": [],
   "source": [
    "df.info()"
   ]
  },
  {
   "cell_type": "code",
   "execution_count": null,
   "id": "2244116c",
   "metadata": {
    "scrolled": true
   },
   "outputs": [],
   "source": [
    "df.isna().sum()"
   ]
  },
  {
   "cell_type": "code",
   "execution_count": 7,
   "id": "adf8b979",
   "metadata": {},
   "outputs": [],
   "source": [
    "###\n",
    "from sklearn.model_selection import train_test_split"
   ]
  },
  {
   "cell_type": "code",
   "execution_count": 4,
   "id": "0be84e83",
   "metadata": {},
   "outputs": [],
   "source": [
    "###\n",
    "def split_zillow(df):\n",
    "    train_val,test = train_test_split(df,\n",
    "                                     random_state=2013,\n",
    "                                     train_size=0.7)\n",
    "    train, validate = train_test_split(train_val,\n",
    "                                      random_state=2013,\n",
    "                                      train_size=0.8)\n",
    "    return train, validate, test"
   ]
  },
  {
   "cell_type": "code",
   "execution_count": 5,
   "id": "299e55a7",
   "metadata": {},
   "outputs": [],
   "source": [
    "###\n",
    "def wrangle_zillow():\n",
    "    return split_zillow(\n",
    "            clean_zillow(get_df()))"
   ]
  },
  {
   "cell_type": "code",
   "execution_count": null,
   "id": "34c2b9cd",
   "metadata": {
    "scrolled": true
   },
   "outputs": [],
   "source": [
    "df2 = wrangle_zillow()\n",
    "df2"
   ]
  },
  {
   "cell_type": "code",
   "execution_count": 8,
   "id": "33ef2f48",
   "metadata": {},
   "outputs": [
    {
     "data": {
      "text/html": [
       "<div>\n",
       "<style scoped>\n",
       "    .dataframe tbody tr th:only-of-type {\n",
       "        vertical-align: middle;\n",
       "    }\n",
       "\n",
       "    .dataframe tbody tr th {\n",
       "        vertical-align: top;\n",
       "    }\n",
       "\n",
       "    .dataframe thead th {\n",
       "        text-align: right;\n",
       "    }\n",
       "</style>\n",
       "<table border=\"1\" class=\"dataframe\">\n",
       "  <thead>\n",
       "    <tr style=\"text-align: right;\">\n",
       "      <th></th>\n",
       "      <th>beds</th>\n",
       "      <th>baths</th>\n",
       "      <th>sqft</th>\n",
       "      <th>taxable_value</th>\n",
       "      <th>built</th>\n",
       "      <th>tax</th>\n",
       "      <th>fips</th>\n",
       "    </tr>\n",
       "  </thead>\n",
       "  <tbody>\n",
       "    <tr>\n",
       "      <th>1941838</th>\n",
       "      <td>4</td>\n",
       "      <td>3</td>\n",
       "      <td>2015</td>\n",
       "      <td>209197</td>\n",
       "      <td>1941</td>\n",
       "      <td>2337</td>\n",
       "      <td>6037</td>\n",
       "    </tr>\n",
       "    <tr>\n",
       "      <th>1421974</th>\n",
       "      <td>4</td>\n",
       "      <td>2</td>\n",
       "      <td>1303</td>\n",
       "      <td>285279</td>\n",
       "      <td>1960</td>\n",
       "      <td>3029</td>\n",
       "      <td>6111</td>\n",
       "    </tr>\n",
       "    <tr>\n",
       "      <th>1346162</th>\n",
       "      <td>3</td>\n",
       "      <td>2</td>\n",
       "      <td>2128</td>\n",
       "      <td>374480</td>\n",
       "      <td>1950</td>\n",
       "      <td>4668</td>\n",
       "      <td>6111</td>\n",
       "    </tr>\n",
       "    <tr>\n",
       "      <th>1492536</th>\n",
       "      <td>2</td>\n",
       "      <td>2</td>\n",
       "      <td>1626</td>\n",
       "      <td>243656</td>\n",
       "      <td>1951</td>\n",
       "      <td>3211</td>\n",
       "      <td>6037</td>\n",
       "    </tr>\n",
       "    <tr>\n",
       "      <th>349555</th>\n",
       "      <td>3</td>\n",
       "      <td>2</td>\n",
       "      <td>1406</td>\n",
       "      <td>313183</td>\n",
       "      <td>1950</td>\n",
       "      <td>3879</td>\n",
       "      <td>6037</td>\n",
       "    </tr>\n",
       "    <tr>\n",
       "      <th>...</th>\n",
       "      <td>...</td>\n",
       "      <td>...</td>\n",
       "      <td>...</td>\n",
       "      <td>...</td>\n",
       "      <td>...</td>\n",
       "      <td>...</td>\n",
       "      <td>...</td>\n",
       "    </tr>\n",
       "    <tr>\n",
       "      <th>389482</th>\n",
       "      <td>2</td>\n",
       "      <td>1</td>\n",
       "      <td>742</td>\n",
       "      <td>329955</td>\n",
       "      <td>1928</td>\n",
       "      <td>4062</td>\n",
       "      <td>6037</td>\n",
       "    </tr>\n",
       "    <tr>\n",
       "      <th>677893</th>\n",
       "      <td>3</td>\n",
       "      <td>2</td>\n",
       "      <td>1155</td>\n",
       "      <td>438972</td>\n",
       "      <td>1958</td>\n",
       "      <td>5365</td>\n",
       "      <td>6037</td>\n",
       "    </tr>\n",
       "    <tr>\n",
       "      <th>1121893</th>\n",
       "      <td>3</td>\n",
       "      <td>1</td>\n",
       "      <td>1056</td>\n",
       "      <td>128151</td>\n",
       "      <td>1974</td>\n",
       "      <td>2119</td>\n",
       "      <td>6037</td>\n",
       "    </tr>\n",
       "    <tr>\n",
       "      <th>172656</th>\n",
       "      <td>5</td>\n",
       "      <td>3</td>\n",
       "      <td>2061</td>\n",
       "      <td>442589</td>\n",
       "      <td>1958</td>\n",
       "      <td>5092</td>\n",
       "      <td>6111</td>\n",
       "    </tr>\n",
       "    <tr>\n",
       "      <th>2079094</th>\n",
       "      <td>4</td>\n",
       "      <td>2</td>\n",
       "      <td>1929</td>\n",
       "      <td>105155</td>\n",
       "      <td>1966</td>\n",
       "      <td>1386</td>\n",
       "      <td>6037</td>\n",
       "    </tr>\n",
       "  </tbody>\n",
       "</table>\n",
       "<p>1198531 rows × 7 columns</p>\n",
       "</div>"
      ],
      "text/plain": [
       "         beds  baths  sqft  taxable_value  built   tax  fips\n",
       "1941838     4      3  2015         209197   1941  2337  6037\n",
       "1421974     4      2  1303         285279   1960  3029  6111\n",
       "1346162     3      2  2128         374480   1950  4668  6111\n",
       "1492536     2      2  1626         243656   1951  3211  6037\n",
       "349555      3      2  1406         313183   1950  3879  6037\n",
       "...       ...    ...   ...            ...    ...   ...   ...\n",
       "389482      2      1   742         329955   1928  4062  6037\n",
       "677893      3      2  1155         438972   1958  5365  6037\n",
       "1121893     3      1  1056         128151   1974  2119  6037\n",
       "172656      5      3  2061         442589   1958  5092  6111\n",
       "2079094     4      2  1929         105155   1966  1386  6037\n",
       "\n",
       "[1198531 rows x 7 columns]"
      ]
     },
     "execution_count": 8,
     "metadata": {},
     "output_type": "execute_result"
    }
   ],
   "source": [
    "###\n",
    "train,validate,test = wrangle_zillow()\n",
    "train"
   ]
  }
 ],
 "metadata": {
  "kernelspec": {
   "display_name": "Python 3 (ipykernel)",
   "language": "python",
   "name": "python3"
  },
  "language_info": {
   "codemirror_mode": {
    "name": "ipython",
    "version": 3
   },
   "file_extension": ".py",
   "mimetype": "text/x-python",
   "name": "python",
   "nbconvert_exporter": "python",
   "pygments_lexer": "ipython3",
   "version": "3.9.13"
  }
 },
 "nbformat": 4,
 "nbformat_minor": 5
}
