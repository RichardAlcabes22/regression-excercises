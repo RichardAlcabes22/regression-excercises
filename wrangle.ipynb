{
 "cells": [
  {
   "cell_type": "code",
   "execution_count": 1,
   "id": "a6f45c31",
   "metadata": {},
   "outputs": [],
   "source": [
    "###\n",
    "# inside acquire.py script:\n",
    "from env import uname, pwd, host\n",
    "import env\n",
    "import pandas as pd\n",
    "import os\n",
    "import matplotlib.pyplot as plt\n",
    "import seaborn as sns"
   ]
  },
  {
   "cell_type": "code",
   "execution_count": 2,
   "id": "46d7c8f9",
   "metadata": {},
   "outputs": [],
   "source": [
    "###\n",
    "######### USE THIS FOR THE zillow DATASET!!!!\n",
    "\n",
    "def get_df():\n",
    "    '''\n",
    "    This function reads the telco data from the Codeup db into a df.\n",
    "    '''\n",
    "    \n",
    "    filename = \"zillow.csv\"\n",
    "\n",
    "    if os.path.isfile(filename):\n",
    "        return pd.read_csv(filename,index_col=False)\n",
    "    else:\n",
    "        sql_query = \"\"\"\n",
    "                SELECT  bedroomcnt as beds,\n",
    "                    bathroomcnt as baths,\n",
    "                    calculatedfinishedsquarefeet as sqft,\n",
    "                    taxvaluedollarcnt as taxable_value,\n",
    "                    yearbuilt as built,\n",
    "                    taxamount as tax,\n",
    "                    fips,\n",
    "                    propertylandusetypeid\n",
    "                FROM properties_2017\n",
    "                WHERE propertylandusetypeid = 261\n",
    "                \"\"\"\n",
    "    \n",
    "        # Read in DataFrame from Codeup db.\n",
    "        df = pd.read_sql(sql_query, env.get_db_url('zillow'))\n",
    "        df.to_csv(filename,index=False)\n",
    "        return df\n",
    "\n",
    "\n",
    "#----------------------------------------------------"
   ]
  },
  {
   "cell_type": "code",
   "execution_count": 3,
   "id": "4938b129",
   "metadata": {
    "scrolled": true
   },
   "outputs": [
    {
     "data": {
      "text/html": [
       "<div>\n",
       "<style scoped>\n",
       "    .dataframe tbody tr th:only-of-type {\n",
       "        vertical-align: middle;\n",
       "    }\n",
       "\n",
       "    .dataframe tbody tr th {\n",
       "        vertical-align: top;\n",
       "    }\n",
       "\n",
       "    .dataframe thead th {\n",
       "        text-align: right;\n",
       "    }\n",
       "</style>\n",
       "<table border=\"1\" class=\"dataframe\">\n",
       "  <thead>\n",
       "    <tr style=\"text-align: right;\">\n",
       "      <th></th>\n",
       "      <th>beds</th>\n",
       "      <th>baths</th>\n",
       "      <th>sqft</th>\n",
       "      <th>taxable_value</th>\n",
       "      <th>built</th>\n",
       "      <th>tax</th>\n",
       "      <th>fips</th>\n",
       "      <th>propertylandusetypeid</th>\n",
       "    </tr>\n",
       "  </thead>\n",
       "  <tbody>\n",
       "    <tr>\n",
       "      <th>0</th>\n",
       "      <td>0.0</td>\n",
       "      <td>0.0</td>\n",
       "      <td>NaN</td>\n",
       "      <td>27516.0</td>\n",
       "      <td>NaN</td>\n",
       "      <td>NaN</td>\n",
       "      <td>6037.0</td>\n",
       "      <td>261.0</td>\n",
       "    </tr>\n",
       "    <tr>\n",
       "      <th>1</th>\n",
       "      <td>0.0</td>\n",
       "      <td>0.0</td>\n",
       "      <td>NaN</td>\n",
       "      <td>10.0</td>\n",
       "      <td>NaN</td>\n",
       "      <td>NaN</td>\n",
       "      <td>6037.0</td>\n",
       "      <td>261.0</td>\n",
       "    </tr>\n",
       "    <tr>\n",
       "      <th>2</th>\n",
       "      <td>0.0</td>\n",
       "      <td>0.0</td>\n",
       "      <td>NaN</td>\n",
       "      <td>10.0</td>\n",
       "      <td>NaN</td>\n",
       "      <td>NaN</td>\n",
       "      <td>6037.0</td>\n",
       "      <td>261.0</td>\n",
       "    </tr>\n",
       "    <tr>\n",
       "      <th>3</th>\n",
       "      <td>0.0</td>\n",
       "      <td>0.0</td>\n",
       "      <td>NaN</td>\n",
       "      <td>2108.0</td>\n",
       "      <td>NaN</td>\n",
       "      <td>174.21</td>\n",
       "      <td>6037.0</td>\n",
       "      <td>261.0</td>\n",
       "    </tr>\n",
       "    <tr>\n",
       "      <th>4</th>\n",
       "      <td>4.0</td>\n",
       "      <td>2.0</td>\n",
       "      <td>3633.0</td>\n",
       "      <td>296425.0</td>\n",
       "      <td>2005.0</td>\n",
       "      <td>6941.39</td>\n",
       "      <td>6037.0</td>\n",
       "      <td>261.0</td>\n",
       "    </tr>\n",
       "  </tbody>\n",
       "</table>\n",
       "</div>"
      ],
      "text/plain": [
       "   beds  baths    sqft  taxable_value   built      tax    fips  \\\n",
       "0   0.0    0.0     NaN        27516.0     NaN      NaN  6037.0   \n",
       "1   0.0    0.0     NaN           10.0     NaN      NaN  6037.0   \n",
       "2   0.0    0.0     NaN           10.0     NaN      NaN  6037.0   \n",
       "3   0.0    0.0     NaN         2108.0     NaN   174.21  6037.0   \n",
       "4   4.0    2.0  3633.0       296425.0  2005.0  6941.39  6037.0   \n",
       "\n",
       "   propertylandusetypeid  \n",
       "0                  261.0  \n",
       "1                  261.0  \n",
       "2                  261.0  \n",
       "3                  261.0  \n",
       "4                  261.0  "
      ]
     },
     "execution_count": 3,
     "metadata": {},
     "output_type": "execute_result"
    }
   ],
   "source": [
    "df = get_df()\n",
    "df.head()"
   ]
  },
  {
   "cell_type": "code",
   "execution_count": null,
   "id": "6ed622b8",
   "metadata": {},
   "outputs": [],
   "source": [
    "df.shape"
   ]
  },
  {
   "cell_type": "code",
   "execution_count": null,
   "id": "2da64f6d",
   "metadata": {
    "scrolled": true
   },
   "outputs": [],
   "source": [
    "df.isnull().sum()"
   ]
  },
  {
   "cell_type": "code",
   "execution_count": null,
   "id": "b2e5fd1e",
   "metadata": {},
   "outputs": [],
   "source": [
    "df.columns"
   ]
  },
  {
   "cell_type": "code",
   "execution_count": null,
   "id": "39093df8",
   "metadata": {},
   "outputs": [],
   "source": [
    "cols = [col for col in df.columns if col not in ['fips','built']]\n",
    "cols"
   ]
  },
  {
   "cell_type": "code",
   "execution_count": null,
   "id": "1fd8812e",
   "metadata": {},
   "outputs": [],
   "source": [
    "plt.figure(figsize=(20,10))\n",
    "for i, col in enumerate(cols):\n",
    "    plot_number = i+1\n",
    "    plt.subplot(1,len(cols),plot_number)\n",
    "    plt.title(f'Dist of {col}')\n",
    "    df[col].hist(bins=10)\n",
    "    plt.grid(False)\n",
    "    plt.ticklabel_format(useOffset=False)\n",
    "plt.show()"
   ]
  },
  {
   "cell_type": "code",
   "execution_count": null,
   "id": "1d9cf5d7",
   "metadata": {},
   "outputs": [],
   "source": [
    "sns.boxplot(data=df)"
   ]
  },
  {
   "cell_type": "code",
   "execution_count": null,
   "id": "68912d19",
   "metadata": {},
   "outputs": [],
   "source": [
    "df.isna().sum()"
   ]
  },
  {
   "cell_type": "code",
   "execution_count": null,
   "id": "d6f84d06",
   "metadata": {},
   "outputs": [],
   "source": [
    "df['baths'].describe()['25%']"
   ]
  },
  {
   "cell_type": "code",
   "execution_count": null,
   "id": "c3939a7f",
   "metadata": {},
   "outputs": [],
   "source": [
    "df['baths'].quantile(0.25)"
   ]
  },
  {
   "cell_type": "code",
   "execution_count": null,
   "id": "054dcf38",
   "metadata": {},
   "outputs": [],
   "source": [
    "# IQR\n",
    "iqr = df['baths'].quantile(0.75) - df['baths'].quantile(0.25)\n",
    "iqr"
   ]
  },
  {
   "cell_type": "code",
   "execution_count": null,
   "id": "2e77f598",
   "metadata": {},
   "outputs": [],
   "source": [
    "lower_bath_fence = (df['baths'].quantile(0.25)) - (1.5*iqr)\n",
    "lower_bath_fence"
   ]
  },
  {
   "cell_type": "code",
   "execution_count": null,
   "id": "61cba446",
   "metadata": {},
   "outputs": [],
   "source": [
    "upper_bathroom_fence = (df['baths'].quantile(0.75)) + (1.5*iqr)\n",
    "upper_bathroom_fence"
   ]
  },
  {
   "cell_type": "code",
   "execution_count": null,
   "id": "90f5ab76",
   "metadata": {},
   "outputs": [],
   "source": [
    "df[(df.baths > lower_bath_fence) & (df.baths < upper_bathroom_fence)].baths.describe()"
   ]
  },
  {
   "cell_type": "code",
   "execution_count": null,
   "id": "4e976f71",
   "metadata": {},
   "outputs": [],
   "source": [
    "col_qs = {}\n",
    "for col in cols:\n",
    "    col_qs[col] = q1,q3 = df[col].quantile([0.25,0.75])"
   ]
  },
  {
   "cell_type": "code",
   "execution_count": null,
   "id": "9fbaf7a2",
   "metadata": {},
   "outputs": [],
   "source": [
    "col_qs['beds'][0.25]"
   ]
  },
  {
   "cell_type": "code",
   "execution_count": null,
   "id": "267cf1c0",
   "metadata": {},
   "outputs": [],
   "source": []
  },
  {
   "cell_type": "code",
   "execution_count": null,
   "id": "0706daaa",
   "metadata": {},
   "outputs": [],
   "source": [
    "def remove_outliers(df,col_list,k=1.5):\n",
    "    '''\n",
    "    remove outliers based on column list usinf tukey 1.5iqr\n",
    "    returns a single df w/o outliers\n",
    "    '''\n",
    "    col_qs = {}\n",
    "    for col in col_list:\n",
    "        col_qs[col] = q1,q3 = df[col].quantile([0.25,0.75])\n",
    "    for col in col_list:\n",
    "        iqr = col_qs[col][0.75] - col_qs[col][0.25]\n",
    "        lower_fence = col_qs[col][0.25] - (k*iqr)\n",
    "        upper_fence = col_qs[col][0.75] + (k*iqr)\n",
    "        df = df[(df[col] > lower_fence) & (df[col] < upper_fence)]\n",
    "    return df"
   ]
  },
  {
   "cell_type": "code",
   "execution_count": null,
   "id": "41e302a9",
   "metadata": {},
   "outputs": [],
   "source": [
    "smol_df = remove_outliers(df,cols)\n",
    "smol_df.shape"
   ]
  },
  {
   "cell_type": "code",
   "execution_count": null,
   "id": "ca5a61f4",
   "metadata": {},
   "outputs": [],
   "source": [
    "df.info()"
   ]
  },
  {
   "cell_type": "markdown",
   "id": "317cd78a",
   "metadata": {},
   "source": [
    "## First, we drop the property land use id...then we can drop rows with missingness...\n",
    "## and finally we can convert all floats to INT"
   ]
  },
  {
   "cell_type": "code",
   "execution_count": 4,
   "id": "91967cc2",
   "metadata": {},
   "outputs": [],
   "source": [
    "###\n",
    "def clean_zillow(df):\n",
    "    '''\n",
    "    clean_szillow will take in df and will remove propertyland..., rows with NULL values in any cell and will\n",
    "    cast floats into int.\n",
    "    \n",
    "    args: df\n",
    "    return: df (clean)\n",
    "    \n",
    "    '''\n",
    "    df = df.drop(columns='propertylandusetypeid')\n",
    "    df = df.dropna()\n",
    "    df = df.astype(int)\n",
    "    return df"
   ]
  },
  {
   "cell_type": "code",
   "execution_count": 5,
   "id": "03f838f6",
   "metadata": {},
   "outputs": [],
   "source": [
    "df = clean_zillow(df)"
   ]
  },
  {
   "cell_type": "code",
   "execution_count": null,
   "id": "b7f7ddaf",
   "metadata": {},
   "outputs": [],
   "source": [
    "df.info()"
   ]
  },
  {
   "cell_type": "code",
   "execution_count": null,
   "id": "2244116c",
   "metadata": {
    "scrolled": true
   },
   "outputs": [],
   "source": [
    "df.isna().sum()"
   ]
  },
  {
   "cell_type": "code",
   "execution_count": 6,
   "id": "5c41ccae",
   "metadata": {},
   "outputs": [],
   "source": [
    "###\n",
    "from sklearn.model_selection import train_test_split"
   ]
  },
  {
   "cell_type": "code",
   "execution_count": 7,
   "id": "b30583ae",
   "metadata": {},
   "outputs": [],
   "source": [
    "###\n",
    "def split_zillow(df):\n",
    "    train_val,test = train_test_split(df,\n",
    "                                     random_state=2013,\n",
    "                                     train_size=0.7)\n",
    "    train, validate = train_test_split(train_val,\n",
    "                                      random_state=2013,\n",
    "                                      train_size=0.8)\n",
    "    return train, validate, test"
   ]
  },
  {
   "cell_type": "code",
   "execution_count": 9,
   "id": "ae2d7fa3",
   "metadata": {},
   "outputs": [],
   "source": [
    "train, validate, test = split_zillow(df)"
   ]
  },
  {
   "cell_type": "code",
   "execution_count": 10,
   "id": "a4064071",
   "metadata": {},
   "outputs": [
    {
     "data": {
      "text/plain": [
       "(642071, 7)"
      ]
     },
     "execution_count": 10,
     "metadata": {},
     "output_type": "execute_result"
    }
   ],
   "source": [
    "test.shape"
   ]
  },
  {
   "cell_type": "code",
   "execution_count": null,
   "id": "c81eabb9",
   "metadata": {},
   "outputs": [],
   "source": [
    "###\n",
    "def wrangle_zillow():\n",
    "    return split_zillow(\n",
    "            clean_zillow(get_df()))"
   ]
  },
  {
   "cell_type": "code",
   "execution_count": null,
   "id": "63b990dc",
   "metadata": {
    "scrolled": true
   },
   "outputs": [],
   "source": [
    "# NOT THIS\n",
    "df2 = wrangle_zillow()\n",
    "df2"
   ]
  },
  {
   "cell_type": "code",
   "execution_count": null,
   "id": "4363944d",
   "metadata": {},
   "outputs": [],
   "source": [
    "### THIIIIIIIISSSSSSS!!!!\n",
    "train,validate,test = wrangle_zillow()\n",
    "train"
   ]
  },
  {
   "cell_type": "markdown",
   "id": "11f5160b",
   "metadata": {},
   "source": [
    "#### Simple Explore"
   ]
  },
  {
   "cell_type": "code",
   "execution_count": null,
   "id": "ff54dbdd",
   "metadata": {},
   "outputs": [],
   "source": [
    "train.shape,validate.shape,test.shape"
   ]
  },
  {
   "cell_type": "code",
   "execution_count": null,
   "id": "bc384f35",
   "metadata": {},
   "outputs": [],
   "source": [
    "for col in train:\n",
    "    train[col].hist()\n",
    "    plt.title(col)\n",
    "    plt.show()"
   ]
  },
  {
   "cell_type": "code",
   "execution_count": null,
   "id": "73a38626",
   "metadata": {},
   "outputs": [],
   "source": [
    "for col in train:\n",
    "    sns.boxplot(data=train, x=col)\n",
    "    plt.title(col)\n",
    "    plt.show()"
   ]
  },
  {
   "cell_type": "code",
   "execution_count": null,
   "id": "8af07e9a",
   "metadata": {},
   "outputs": [],
   "source": [
    "train.describe().T"
   ]
  },
  {
   "cell_type": "code",
   "execution_count": null,
   "id": "3d292a94",
   "metadata": {
    "scrolled": true
   },
   "outputs": [],
   "source": [
    "train.info()"
   ]
  },
  {
   "cell_type": "code",
   "execution_count": null,
   "id": "7cde4b03",
   "metadata": {},
   "outputs": [],
   "source": [
    "sns.pairplot(train,corner=True)\n",
    "plt.show()"
   ]
  },
  {
   "cell_type": "code",
   "execution_count": null,
   "id": "38ee8ab0",
   "metadata": {},
   "outputs": [],
   "source": []
  },
  {
   "cell_type": "code",
   "execution_count": null,
   "id": "52f4aef7",
   "metadata": {},
   "outputs": [],
   "source": []
  },
  {
   "cell_type": "code",
   "execution_count": null,
   "id": "c70a9939",
   "metadata": {},
   "outputs": [],
   "source": []
  },
  {
   "cell_type": "code",
   "execution_count": null,
   "id": "ade2d194",
   "metadata": {},
   "outputs": [],
   "source": []
  },
  {
   "cell_type": "code",
   "execution_count": null,
   "id": "51095b18",
   "metadata": {},
   "outputs": [],
   "source": []
  },
  {
   "cell_type": "code",
   "execution_count": null,
   "id": "26391195",
   "metadata": {},
   "outputs": [],
   "source": []
  }
 ],
 "metadata": {
  "kernelspec": {
   "display_name": "Python 3 (ipykernel)",
   "language": "python",
   "name": "python3"
  },
  "language_info": {
   "codemirror_mode": {
    "name": "ipython",
    "version": 3
   },
   "file_extension": ".py",
   "mimetype": "text/x-python",
   "name": "python",
   "nbconvert_exporter": "python",
   "pygments_lexer": "ipython3",
   "version": "3.9.13"
  }
 },
 "nbformat": 4,
 "nbformat_minor": 5
}
