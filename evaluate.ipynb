{
 "cells": [
  {
   "cell_type": "code",
   "execution_count": 50,
   "id": "5b443952",
   "metadata": {},
   "outputs": [],
   "source": [
    "#standard ds imports\n",
    "import pandas as pd\n",
    "import numpy as np\n",
    "\n",
    "#viz and stats\n",
    "import matplotlib.pyplot as plt\n",
    "import seaborn as sns\n",
    "from scipy.stats import pearsonr, spearmanr\n",
    "\n",
    "###\n",
    "# inside acquire.py script:\n",
    "from env import uname, pwd, host\n",
    "import env\n",
    "import pandas as pd\n",
    "import os\n",
    "import matplotlib.pyplot as plt\n",
    "import seaborn as sns\n",
    "import wrangle\n",
    "from sklearn.model_selection import train_test_split\n",
    "from scipy import stats\n",
    "import sklearn.preprocessing\n",
    "\n",
    "#import sklearn mean_square_error\n",
    "\n",
    "from sklearn.metrics import mean_squared_error\n",
    "from sklearn.metrics import r2_score"
   ]
  },
  {
   "cell_type": "code",
   "execution_count": 2,
   "id": "dd77472a",
   "metadata": {},
   "outputs": [
    {
     "name": "stdout",
     "output_type": "stream",
     "text": [
      "<class 'pandas.core.frame.DataFrame'>\n",
      "Int64Index: 1198531 entries, 1941838 to 2079094\n",
      "Data columns (total 7 columns):\n",
      " #   Column         Non-Null Count    Dtype\n",
      "---  ------         --------------    -----\n",
      " 0   beds           1198531 non-null  int64\n",
      " 1   baths          1198531 non-null  int64\n",
      " 2   sqft           1198531 non-null  int64\n",
      " 3   taxable_value  1198531 non-null  int64\n",
      " 4   built          1198531 non-null  int64\n",
      " 5   tax            1198531 non-null  int64\n",
      " 6   fips           1198531 non-null  int64\n",
      "dtypes: int64(7)\n",
      "memory usage: 73.2 MB\n"
     ]
    }
   ],
   "source": [
    "train,validate,test = wrangle.wrangle_zillow()\n",
    "train.info()"
   ]
  },
  {
   "cell_type": "code",
   "execution_count": 3,
   "id": "b9122be8",
   "metadata": {},
   "outputs": [
    {
     "name": "stdout",
     "output_type": "stream",
     "text": [
      "<class 'numpy.float64'>\n",
      "1.5\n",
      "<class 'numpy.float64'>\n",
      "0.5\n",
      "<class 'numpy.float64'>\n",
      "-167.0\n",
      "<class 'numpy.float64'>\n",
      "-328980.25\n",
      "<class 'numpy.float64'>\n",
      "-3266.5\n"
     ]
    },
    {
     "data": {
      "text/plain": [
       "(1069215, 7)"
      ]
     },
     "execution_count": 3,
     "metadata": {},
     "output_type": "execute_result"
    }
   ],
   "source": [
    "cols = train.drop(columns=['fips','built']).columns.to_list()\n",
    "train = wrangle.remove_outliers(train,cols)\n",
    "train.shape"
   ]
  },
  {
   "cell_type": "code",
   "execution_count": 7,
   "id": "406cb65a",
   "metadata": {},
   "outputs": [
    {
     "data": {
      "text/plain": [
       "array([397580.01756117, 279231.72559134, 416362.82232605, ...,\n",
       "       238175.50632652, 405226.11507607, 383285.13959852])"
      ]
     },
     "execution_count": 7,
     "metadata": {},
     "output_type": "execute_result"
    }
   ],
   "source": [
    "# 2 Compute YHAT of target: taxable_value:\n",
    "\n",
    "from sklearn.linear_model import LinearRegression\n",
    "\n",
    "X = train[['sqft']]\n",
    "y = train['taxable_value']\n",
    "\n",
    "# assuming X and y are already defined\n",
    "model = LinearRegression().fit(X, y)\n",
    "predictions = model.predict(X)\n",
    "# USE THE THING: make a prediction\n",
    "# lm.predict will output a numpy array of values,\n",
    "# we will put those values into a column in df\n",
    "predictions"
   ]
  },
  {
   "cell_type": "code",
   "execution_count": null,
   "id": "92937d1a",
   "metadata": {},
   "outputs": [],
   "source": []
  },
  {
   "cell_type": "code",
   "execution_count": null,
   "id": "e9f94df3",
   "metadata": {},
   "outputs": [],
   "source": []
  },
  {
   "cell_type": "code",
   "execution_count": null,
   "id": "976b862e",
   "metadata": {},
   "outputs": [],
   "source": []
  },
  {
   "cell_type": "code",
   "execution_count": 12,
   "id": "3556f412",
   "metadata": {},
   "outputs": [
    {
     "data": {
      "text/html": [
       "<div>\n",
       "<style scoped>\n",
       "    .dataframe tbody tr th:only-of-type {\n",
       "        vertical-align: middle;\n",
       "    }\n",
       "\n",
       "    .dataframe tbody tr th {\n",
       "        vertical-align: top;\n",
       "    }\n",
       "\n",
       "    .dataframe thead th {\n",
       "        text-align: right;\n",
       "    }\n",
       "</style>\n",
       "<table border=\"1\" class=\"dataframe\">\n",
       "  <thead>\n",
       "    <tr style=\"text-align: right;\">\n",
       "      <th></th>\n",
       "      <th>beds</th>\n",
       "      <th>baths</th>\n",
       "      <th>sqft</th>\n",
       "      <th>taxable_value</th>\n",
       "      <th>built</th>\n",
       "      <th>tax</th>\n",
       "      <th>fips</th>\n",
       "      <th>yhat</th>\n",
       "    </tr>\n",
       "  </thead>\n",
       "  <tbody>\n",
       "    <tr>\n",
       "      <th>1941838</th>\n",
       "      <td>4</td>\n",
       "      <td>3</td>\n",
       "      <td>2015</td>\n",
       "      <td>209197</td>\n",
       "      <td>1941</td>\n",
       "      <td>2337</td>\n",
       "      <td>6037</td>\n",
       "      <td>397580.017561</td>\n",
       "    </tr>\n",
       "    <tr>\n",
       "      <th>1421974</th>\n",
       "      <td>4</td>\n",
       "      <td>2</td>\n",
       "      <td>1303</td>\n",
       "      <td>285279</td>\n",
       "      <td>1960</td>\n",
       "      <td>3029</td>\n",
       "      <td>6111</td>\n",
       "      <td>279231.725591</td>\n",
       "    </tr>\n",
       "    <tr>\n",
       "      <th>1346162</th>\n",
       "      <td>3</td>\n",
       "      <td>2</td>\n",
       "      <td>2128</td>\n",
       "      <td>374480</td>\n",
       "      <td>1950</td>\n",
       "      <td>4668</td>\n",
       "      <td>6111</td>\n",
       "      <td>416362.822326</td>\n",
       "    </tr>\n",
       "    <tr>\n",
       "      <th>1492536</th>\n",
       "      <td>2</td>\n",
       "      <td>2</td>\n",
       "      <td>1626</td>\n",
       "      <td>243656</td>\n",
       "      <td>1951</td>\n",
       "      <td>3211</td>\n",
       "      <td>6037</td>\n",
       "      <td>332920.627707</td>\n",
       "    </tr>\n",
       "    <tr>\n",
       "      <th>349555</th>\n",
       "      <td>3</td>\n",
       "      <td>2</td>\n",
       "      <td>1406</td>\n",
       "      <td>313183</td>\n",
       "      <td>1950</td>\n",
       "      <td>3879</td>\n",
       "      <td>6037</td>\n",
       "      <td>296352.335244</td>\n",
       "    </tr>\n",
       "  </tbody>\n",
       "</table>\n",
       "</div>"
      ],
      "text/plain": [
       "         beds  baths  sqft  taxable_value  built   tax  fips           yhat\n",
       "1941838     4      3  2015         209197   1941  2337  6037  397580.017561\n",
       "1421974     4      2  1303         285279   1960  3029  6111  279231.725591\n",
       "1346162     3      2  2128         374480   1950  4668  6111  416362.822326\n",
       "1492536     2      2  1626         243656   1951  3211  6037  332920.627707\n",
       "349555      3      2  1406         313183   1950  3879  6037  296352.335244"
      ]
     },
     "execution_count": 12,
     "metadata": {},
     "output_type": "execute_result"
    }
   ],
   "source": [
    "train['yhat'] = predictions\n",
    "train.head()"
   ]
  },
  {
   "cell_type": "code",
   "execution_count": 18,
   "id": "01b0ba34",
   "metadata": {},
   "outputs": [
    {
     "data": {
      "text/html": [
       "<div>\n",
       "<style scoped>\n",
       "    .dataframe tbody tr th:only-of-type {\n",
       "        vertical-align: middle;\n",
       "    }\n",
       "\n",
       "    .dataframe tbody tr th {\n",
       "        vertical-align: top;\n",
       "    }\n",
       "\n",
       "    .dataframe thead th {\n",
       "        text-align: right;\n",
       "    }\n",
       "</style>\n",
       "<table border=\"1\" class=\"dataframe\">\n",
       "  <thead>\n",
       "    <tr style=\"text-align: right;\">\n",
       "      <th></th>\n",
       "      <th>beds</th>\n",
       "      <th>baths</th>\n",
       "      <th>sqft</th>\n",
       "      <th>taxable_value</th>\n",
       "      <th>built</th>\n",
       "      <th>tax</th>\n",
       "      <th>fips</th>\n",
       "      <th>yhat</th>\n",
       "      <th>baseline</th>\n",
       "    </tr>\n",
       "  </thead>\n",
       "  <tbody>\n",
       "    <tr>\n",
       "      <th>1941838</th>\n",
       "      <td>4</td>\n",
       "      <td>3</td>\n",
       "      <td>2015</td>\n",
       "      <td>209197</td>\n",
       "      <td>1941</td>\n",
       "      <td>2337</td>\n",
       "      <td>6037</td>\n",
       "      <td>397580.017561</td>\n",
       "      <td>342424.686767</td>\n",
       "    </tr>\n",
       "    <tr>\n",
       "      <th>1421974</th>\n",
       "      <td>4</td>\n",
       "      <td>2</td>\n",
       "      <td>1303</td>\n",
       "      <td>285279</td>\n",
       "      <td>1960</td>\n",
       "      <td>3029</td>\n",
       "      <td>6111</td>\n",
       "      <td>279231.725591</td>\n",
       "      <td>342424.686767</td>\n",
       "    </tr>\n",
       "    <tr>\n",
       "      <th>1346162</th>\n",
       "      <td>3</td>\n",
       "      <td>2</td>\n",
       "      <td>2128</td>\n",
       "      <td>374480</td>\n",
       "      <td>1950</td>\n",
       "      <td>4668</td>\n",
       "      <td>6111</td>\n",
       "      <td>416362.822326</td>\n",
       "      <td>342424.686767</td>\n",
       "    </tr>\n",
       "    <tr>\n",
       "      <th>1492536</th>\n",
       "      <td>2</td>\n",
       "      <td>2</td>\n",
       "      <td>1626</td>\n",
       "      <td>243656</td>\n",
       "      <td>1951</td>\n",
       "      <td>3211</td>\n",
       "      <td>6037</td>\n",
       "      <td>332920.627707</td>\n",
       "      <td>342424.686767</td>\n",
       "    </tr>\n",
       "    <tr>\n",
       "      <th>349555</th>\n",
       "      <td>3</td>\n",
       "      <td>2</td>\n",
       "      <td>1406</td>\n",
       "      <td>313183</td>\n",
       "      <td>1950</td>\n",
       "      <td>3879</td>\n",
       "      <td>6037</td>\n",
       "      <td>296352.335244</td>\n",
       "      <td>342424.686767</td>\n",
       "    </tr>\n",
       "  </tbody>\n",
       "</table>\n",
       "</div>"
      ],
      "text/plain": [
       "         beds  baths  sqft  taxable_value  built   tax  fips           yhat  \\\n",
       "1941838     4      3  2015         209197   1941  2337  6037  397580.017561   \n",
       "1421974     4      2  1303         285279   1960  3029  6111  279231.725591   \n",
       "1346162     3      2  2128         374480   1950  4668  6111  416362.822326   \n",
       "1492536     2      2  1626         243656   1951  3211  6037  332920.627707   \n",
       "349555      3      2  1406         313183   1950  3879  6037  296352.335244   \n",
       "\n",
       "              baseline  \n",
       "1941838  342424.686767  \n",
       "1421974  342424.686767  \n",
       "1346162  342424.686767  \n",
       "1492536  342424.686767  \n",
       "349555   342424.686767  "
      ]
     },
     "execution_count": 18,
     "metadata": {},
     "output_type": "execute_result"
    }
   ],
   "source": [
    "train['baseline'] = train.taxable_value.mean()\n",
    "train.head()"
   ]
  },
  {
   "cell_type": "code",
   "execution_count": 15,
   "id": "24029214",
   "metadata": {},
   "outputs": [
    {
     "data": {
      "image/png": "[encoded data removed]",
      "text/plain": [
       "<Figure size 640x480 with 1 Axes>"
      ]
     },
     "metadata": {},
     "output_type": "display_data"
    }
   ],
   "source": [
    "train_1000 = train.sample(1000)\n",
    "# visualize the line of best fit from OLS linear model\n",
    "\n",
    "# The scatterplot consists of the **actual taxable_value**\n",
    "plt.scatter(train_1000.sqft,train_1000.taxable_value)\n",
    "# The lineplot is my regression line used for predictions\n",
    "plt.plot(train_1000.sqft,train_1000.yhat,c='red')\n",
    "\n"
   ]
  },
  {
   "cell_type": "code",
   "execution_count": 58,
   "id": "78d0f226",
   "metadata": {},
   "outputs": [],
   "source": [
    "# 3 plotting residuals\n",
    "# residual = actual - predicted\n",
    "\n",
    "train['baseline_residual'] = train.taxable_value - train.baseline\n",
    "train['residual'] = train.taxable_value - train.yhat"
   ]
  },
  {
   "cell_type": "code",
   "execution_count": 59,
   "id": "7fcb7b2f",
   "metadata": {},
   "outputs": [],
   "source": [
    "train_1000 = train.sample(1000)"
   ]
  },
  {
   "cell_type": "code",
   "execution_count": 97,
   "id": "eaa4e94d",
   "metadata": {},
   "outputs": [
    {
     "data": {
      "image/png": "[encoded data removed]",
      "text/plain": [
       "<Figure size 640x480 with 1 Axes>"
      ]
     },
     "metadata": {},
     "output_type": "display_data"
    }
   ],
   "source": [
    "train_1000 = train.sample(1000)\n",
    "# visualize the line of best fit from OLS linear model\n",
    "\n",
    "# The scatterplot consists of the **actual taxable_value**\n",
    "plt.scatter(train_1000.taxable_value,train_1000.residual)\n",
    "plt.xlim(0,1000000)\n",
    "plt.show()\n",
    "\n"
   ]
  },
  {
   "cell_type": "code",
   "execution_count": 57,
   "id": "eaa76f71",
   "metadata": {
    "scrolled": true
   },
   "outputs": [
    {
     "data": {
      "text/html": [
       "<div>\n",
       "<style scoped>\n",
       "    .dataframe tbody tr th:only-of-type {\n",
       "        vertical-align: middle;\n",
       "    }\n",
       "\n",
       "    .dataframe tbody tr th {\n",
       "        vertical-align: top;\n",
       "    }\n",
       "\n",
       "    .dataframe thead th {\n",
       "        text-align: right;\n",
       "    }\n",
       "</style>\n",
       "<table border=\"1\" class=\"dataframe\">\n",
       "  <thead>\n",
       "    <tr style=\"text-align: right;\">\n",
       "      <th></th>\n",
       "      <th>beds</th>\n",
       "      <th>baths</th>\n",
       "      <th>sqft</th>\n",
       "      <th>taxable_value</th>\n",
       "      <th>built</th>\n",
       "      <th>tax</th>\n",
       "      <th>fips</th>\n",
       "      <th>yhat</th>\n",
       "      <th>baseline</th>\n",
       "      <th>baseline_residual</th>\n",
       "      <th>residual</th>\n",
       "      <th>baseline_residual_2</th>\n",
       "      <th>residual_2</th>\n",
       "    </tr>\n",
       "  </thead>\n",
       "  <tbody>\n",
       "    <tr>\n",
       "      <th>1941838</th>\n",
       "      <td>4</td>\n",
       "      <td>3</td>\n",
       "      <td>2015</td>\n",
       "      <td>209197</td>\n",
       "      <td>1941</td>\n",
       "      <td>2337</td>\n",
       "      <td>6037</td>\n",
       "      <td>397580.017561</td>\n",
       "      <td>342424.686767</td>\n",
       "      <td>-133227.686767</td>\n",
       "      <td>188383.017561</td>\n",
       "      <td>1.774962e+10</td>\n",
       "      <td>3.548816e+10</td>\n",
       "    </tr>\n",
       "    <tr>\n",
       "      <th>1421974</th>\n",
       "      <td>4</td>\n",
       "      <td>2</td>\n",
       "      <td>1303</td>\n",
       "      <td>285279</td>\n",
       "      <td>1960</td>\n",
       "      <td>3029</td>\n",
       "      <td>6111</td>\n",
       "      <td>279231.725591</td>\n",
       "      <td>342424.686767</td>\n",
       "      <td>-57145.686767</td>\n",
       "      <td>-6047.274409</td>\n",
       "      <td>3.265630e+09</td>\n",
       "      <td>3.656953e+07</td>\n",
       "    </tr>\n",
       "    <tr>\n",
       "      <th>1346162</th>\n",
       "      <td>3</td>\n",
       "      <td>2</td>\n",
       "      <td>2128</td>\n",
       "      <td>374480</td>\n",
       "      <td>1950</td>\n",
       "      <td>4668</td>\n",
       "      <td>6111</td>\n",
       "      <td>416362.822326</td>\n",
       "      <td>342424.686767</td>\n",
       "      <td>32055.313233</td>\n",
       "      <td>41882.822326</td>\n",
       "      <td>1.027543e+09</td>\n",
       "      <td>1.754171e+09</td>\n",
       "    </tr>\n",
       "    <tr>\n",
       "      <th>1492536</th>\n",
       "      <td>2</td>\n",
       "      <td>2</td>\n",
       "      <td>1626</td>\n",
       "      <td>243656</td>\n",
       "      <td>1951</td>\n",
       "      <td>3211</td>\n",
       "      <td>6037</td>\n",
       "      <td>332920.627707</td>\n",
       "      <td>342424.686767</td>\n",
       "      <td>-98768.686767</td>\n",
       "      <td>89264.627707</td>\n",
       "      <td>9.755253e+09</td>\n",
       "      <td>7.968174e+09</td>\n",
       "    </tr>\n",
       "    <tr>\n",
       "      <th>349555</th>\n",
       "      <td>3</td>\n",
       "      <td>2</td>\n",
       "      <td>1406</td>\n",
       "      <td>313183</td>\n",
       "      <td>1950</td>\n",
       "      <td>3879</td>\n",
       "      <td>6037</td>\n",
       "      <td>296352.335244</td>\n",
       "      <td>342424.686767</td>\n",
       "      <td>-29241.686767</td>\n",
       "      <td>-16830.664756</td>\n",
       "      <td>8.550762e+08</td>\n",
       "      <td>2.832713e+08</td>\n",
       "    </tr>\n",
       "  </tbody>\n",
       "</table>\n",
       "</div>"
      ],
      "text/plain": [
       "         beds  baths  sqft  taxable_value  built   tax  fips           yhat  \\\n",
       "1941838     4      3  2015         209197   1941  2337  6037  397580.017561   \n",
       "1421974     4      2  1303         285279   1960  3029  6111  279231.725591   \n",
       "1346162     3      2  2128         374480   1950  4668  6111  416362.822326   \n",
       "1492536     2      2  1626         243656   1951  3211  6037  332920.627707   \n",
       "349555      3      2  1406         313183   1950  3879  6037  296352.335244   \n",
       "\n",
       "              baseline  baseline_residual       residual  baseline_residual_2  \\\n",
       "1941838  342424.686767     -133227.686767  188383.017561         1.774962e+10   \n",
       "1421974  342424.686767      -57145.686767   -6047.274409         3.265630e+09   \n",
       "1346162  342424.686767       32055.313233   41882.822326         1.027543e+09   \n",
       "1492536  342424.686767      -98768.686767   89264.627707         9.755253e+09   \n",
       "349555   342424.686767      -29241.686767  -16830.664756         8.550762e+08   \n",
       "\n",
       "           residual_2  \n",
       "1941838  3.548816e+10  \n",
       "1421974  3.656953e+07  \n",
       "1346162  1.754171e+09  \n",
       "1492536  7.968174e+09  \n",
       "349555   2.832713e+08  "
      ]
     },
     "execution_count": 57,
     "metadata": {},
     "output_type": "execute_result"
    }
   ],
   "source": [
    "train.head()"
   ]
  },
  {
   "cell_type": "code",
   "execution_count": null,
   "id": "694679a7",
   "metadata": {},
   "outputs": [],
   "source": [
    "train['baseline_residual_2'] = train.baseline_residual **2\n",
    "train['residual_2'] = train.residual ** 2"
   ]
  },
  {
   "cell_type": "code",
   "execution_count": 29,
   "id": "ad8ebce1",
   "metadata": {},
   "outputs": [
    {
     "data": {
      "text/plain": [
       "3.94330586929903e+16"
      ]
     },
     "execution_count": 29,
     "metadata": {},
     "output_type": "execute_result"
    }
   ],
   "source": [
    "# 4 Calculate SSE SSR SST MSE and RMSE for the MODEL:\n",
    "\n",
    "# SSE \n",
    "# the difference between yhat and y, just squared\n",
    "\n",
    "SSE_baseline = SST = train.baseline_residual_2.sum()\n",
    "SSE = train.residual_2.sum()\n",
    "SSE"
   ]
  },
  {
   "cell_type": "code",
   "execution_count": 31,
   "id": "f383a7ce",
   "metadata": {},
   "outputs": [
    {
     "data": {
      "text/plain": [
       "1.0449159439839984e+16"
      ]
     },
     "execution_count": 31,
     "metadata": {},
     "output_type": "execute_result"
    }
   ],
   "source": [
    "# SSR = SST - SSE\n",
    "SSR = SSE_baseline - SSE\n",
    "SSR"
   ]
  },
  {
   "cell_type": "code",
   "execution_count": 30,
   "id": "71034e85",
   "metadata": {},
   "outputs": [
    {
     "data": {
      "text/plain": [
       "4.988221813283029e+16"
      ]
     },
     "execution_count": 30,
     "metadata": {},
     "output_type": "execute_result"
    }
   ],
   "source": [
    "# SST = SSE + SSR or just the SSE_baseline\n",
    "SSE_baseline"
   ]
  },
  {
   "cell_type": "code",
   "execution_count": 42,
   "id": "01bbe054",
   "metadata": {},
   "outputs": [
    {
     "data": {
      "text/plain": [
       "36880382984.70402"
      ]
     },
     "execution_count": 42,
     "metadata": {},
     "output_type": "execute_result"
    }
   ],
   "source": [
    "# MSE\n",
    "MSE2 = mean_squared_error(train.taxable_value,train.yhat)\n",
    "MSE2"
   ]
  },
  {
   "cell_type": "code",
   "execution_count": 41,
   "id": "d63d6438",
   "metadata": {},
   "outputs": [
    {
     "data": {
      "text/plain": [
       "192042.65928356652"
      ]
     },
     "execution_count": 41,
     "metadata": {},
     "output_type": "execute_result"
    }
   ],
   "source": [
    "# RMSE = MSE2 ** 0.5\n",
    "RMSE = mean_squared_error(train.taxable_value,train.yhat,squared=False)\n",
    "RMSE"
   ]
  },
  {
   "cell_type": "code",
   "execution_count": 38,
   "id": "c1bb84f1",
   "metadata": {},
   "outputs": [
    {
     "data": {
      "text/plain": [
       "4.988221813283029e+16"
      ]
     },
     "execution_count": 38,
     "metadata": {},
     "output_type": "execute_result"
    }
   ],
   "source": [
    "# 5 Calculate SSE MSE and RMSE for the BASELINE:\n",
    "\n",
    "# SSE \n",
    "# the difference between yhat and y, just squared\n",
    "\n",
    "SSE_baseline = train.baseline_residual_2.sum()\n",
    "\n",
    "SSE_baseline"
   ]
  },
  {
   "cell_type": "code",
   "execution_count": 40,
   "id": "5ff47ffb",
   "metadata": {},
   "outputs": [
    {
     "data": {
      "text/plain": [
       "46653122274.594246"
      ]
     },
     "execution_count": 40,
     "metadata": {},
     "output_type": "execute_result"
    }
   ],
   "source": [
    "# MSE\n",
    "MSE2_baseline = mean_squared_error(train.taxable_value,train.baseline)\n",
    "MSE2"
   ]
  },
  {
   "cell_type": "code",
   "execution_count": 43,
   "id": "685f46f6",
   "metadata": {},
   "outputs": [
    {
     "data": {
      "text/plain": [
       "215993.3384958764"
      ]
     },
     "execution_count": 43,
     "metadata": {},
     "output_type": "execute_result"
    }
   ],
   "source": [
    "# RMSE = MSE2 ** 0.5 for BASELINE\n",
    "RMSE_baseline = mean_squared_error(train.taxable_value,train.baseline,squared=False)\n",
    "RMSE_baseline"
   ]
  },
  {
   "cell_type": "code",
   "execution_count": 46,
   "id": "999aed12",
   "metadata": {},
   "outputs": [
    {
     "name": "stdout",
     "output_type": "stream",
     "text": [
      "With an SSE of 3.94330586929903e+16, our model improves upon Baseline by 1.0449159439839984e+16\n"
     ]
    }
   ],
   "source": [
    "# 6 SSE vs SSE_baseline\n",
    "\n",
    "SSE_baseline = train.baseline_residual_2.sum()\n",
    "SSE = train.residual_2.sum()\n",
    "\n",
    "if SSE < SSE_baseline:\n",
    "    print(f'With an SSE of {SSE}, our model improves upon Baseline by {round(SSE_baseline - SSE)}')\n",
    "else:\n",
    "    print(f'With an SSE of {SSE}, our model DOES NOT improve upon Baseline prediction')"
   ]
  },
  {
   "cell_type": "code",
   "execution_count": 52,
   "id": "9e869be1",
   "metadata": {},
   "outputs": [
    {
     "data": {
      "text/plain": [
       "0.2094766397920626"
      ]
     },
     "execution_count": 52,
     "metadata": {},
     "output_type": "execute_result"
    }
   ],
   "source": [
    "# 7 What is SSR the amount explained by the regression? the number is output above in # 6\n",
    "# SSR = SST - SSE\n",
    "SSR = SSE_baseline - SSE\n",
    "# the amount of variance (R2) explained by the model is:\n",
    "SSR / SSE_baseline #manual method SSE_baseline is SST/TSS\n"
   ]
  },
  {
   "cell_type": "code",
   "execution_count": 51,
   "id": "9e893528",
   "metadata": {},
   "outputs": [
    {
     "data": {
      "text/plain": [
       "0.20947663979206266"
      ]
     },
     "execution_count": 51,
     "metadata": {},
     "output_type": "execute_result"
    }
   ],
   "source": [
    "# USING sklearn\n",
    "r2_score(train.taxable_value,train.yhat)"
   ]
  },
  {
   "cell_type": "code",
   "execution_count": null,
   "id": "27db8cc7",
   "metadata": {},
   "outputs": [],
   "source": [
    "# 8 Yes, better by approx 21% ie, the model explains 21% of the variance"
   ]
  },
  {
   "cell_type": "code",
   "execution_count": null,
   "id": "e0d429c7",
   "metadata": {},
   "outputs": [],
   "source": [
    "# 9 "
   ]
  },
  {
   "cell_type": "code",
   "execution_count": null,
   "id": "e36b66c2",
   "metadata": {},
   "outputs": [],
   "source": []
  },
  {
   "cell_type": "code",
   "execution_count": null,
   "id": "94338e71",
   "metadata": {},
   "outputs": [],
   "source": []
  },
  {
   "cell_type": "code",
   "execution_count": null,
   "id": "96753ba9",
   "metadata": {},
   "outputs": [],
   "source": []
  },
  {
   "cell_type": "code",
   "execution_count": null,
   "id": "419c2f0a",
   "metadata": {},
   "outputs": [],
   "source": []
  },
  {
   "cell_type": "code",
   "execution_count": null,
   "id": "785a3e37",
   "metadata": {},
   "outputs": [],
   "source": []
  }
 ],
 "metadata": {
  "kernelspec": {
   "display_name": "Python 3 (ipykernel)",
   "language": "python",
   "name": "python3"
  },
  "language_info": {
   "codemirror_mode": {
    "name": "ipython",
    "version": 3
   },
   "file_extension": ".py",
   "mimetype": "text/x-python",
   "name": "python",
   "nbconvert_exporter": "python",
   "pygments_lexer": "ipython3",
   "version": "3.9.13"
  }
 },
 "nbformat": 4,
 "nbformat_minor": 5
}
